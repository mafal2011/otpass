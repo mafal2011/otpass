{
 "cells": [
  {
   "cell_type": "markdown",
   "metadata": {},
   "source": [
    "[imapclient 사용법] https://bokyeong-kim.github.io/python/basic/2020/07/27/python-basic(5).html"
   ]
  },
  {
   "cell_type": "code",
   "execution_count": 1,
   "metadata": {},
   "outputs": [],
   "source": [
    "import imapclient"
   ]
  },
  {
   "cell_type": "code",
   "execution_count": 2,
   "metadata": {},
   "outputs": [
    {
     "data": {
      "text/plain": [
       "b'mafal201121@gmail.com authenticated (Success)'"
      ]
     },
     "execution_count": 2,
     "metadata": {},
     "output_type": "execute_result"
    }
   ],
   "source": [
    "EMAIL = 'mafal201121@gmail.com'  # 본인의 이메일 주소를 입력하세요.\n",
    "\n",
    "# 암호를 입력합니다. (입력 시 암호가 표시되지 않습니다)\n",
    "password = 'goyqgwyjnmprnigo'\n",
    "\n",
    "# IMAP 서버에 연결하고 로그인합니다\n",
    "imap_obj = imapclient.IMAPClient('imap.gmail.com', ssl=True)\n",
    "imap_obj.login(EMAIL, password)\n"
   ]
  },
  {
   "cell_type": "code",
   "execution_count": 3,
   "metadata": {},
   "outputs": [
    {
     "data": {
      "text/plain": [
       "{b'PERMANENTFLAGS': (),\n",
       " b'FLAGS': (b'\\\\Answered',\n",
       "  b'\\\\Flagged',\n",
       "  b'\\\\Draft',\n",
       "  b'\\\\Deleted',\n",
       "  b'\\\\Seen',\n",
       "  b'$NotPhishing',\n",
       "  b'$Phishing'),\n",
       " b'UIDVALIDITY': 1,\n",
       " b'EXISTS': 946,\n",
       " b'RECENT': 0,\n",
       " b'UIDNEXT': 1069,\n",
       " b'HIGHESTMODSEQ': 315962,\n",
       " b'READ-ONLY': [b'']}"
      ]
     },
     "execution_count": 3,
     "metadata": {},
     "output_type": "execute_result"
    }
   ],
   "source": [
    "# 'INBOX' 폴더를 선택합니다\n",
    "imap_obj.select_folder('INBOX', readonly=True)\n"
   ]
  },
  {
   "cell_type": "code",
   "execution_count": 48,
   "metadata": {},
   "outputs": [],
   "source": [
    "# 최근 10개의 메일을 검색합니다\n",
    "email_ids = imap_obj.search(['ALL'])[-10:]"
   ]
  },
  {
   "cell_type": "code",
   "execution_count": 49,
   "metadata": {},
   "outputs": [
    {
     "data": {
      "text/plain": [
       "[1054, 1055, 1056, 1057, 1058, 1059, 1060, 1061, 1062, 1063]"
      ]
     },
     "execution_count": 49,
     "metadata": {},
     "output_type": "execute_result"
    }
   ],
   "source": [
    "email_ids"
   ]
  },
  {
   "cell_type": "code",
   "execution_count": 36,
   "metadata": {},
   "outputs": [],
   "source": [
    "messages = imap_obj.search(['FROM', 'mafal201116@gmail.com'])[-1:]\n",
    "# messages = imap_obj.search(['FROM', 'mafal2011@naver.com'])[-1:]"
   ]
  },
  {
   "cell_type": "code",
   "execution_count": 37,
   "metadata": {},
   "outputs": [
    {
     "data": {
      "text/plain": [
       "1068"
      ]
     },
     "execution_count": 37,
     "metadata": {},
     "output_type": "execute_result"
    }
   ],
   "source": [
    "messages[-1]"
   ]
  },
  {
   "cell_type": "code",
   "execution_count": 38,
   "metadata": {},
   "outputs": [
    {
     "name": "stdout",
     "output_type": "stream",
     "text": [
      "Delivered-To: mafal201121@gmail.com\n",
      "Received: by 2002:ac4:cc91:0:b0:66e:db78:6003 with SMTP id z17csp2476138pin;\n",
      "        Tue, 10 Oct 2023 01:20:00 -0700 (PDT)\n",
      "X-Received: by 2002:a17:902:c40c:b0:1c8:90bf:4234 with SMTP id k12-20020a170902c40c00b001c890bf4234mr14680301plk.61.1696925999789;\n",
      "        Tue, 10 Oct 2023 01:19:59 -0700 (PDT)\n",
      "ARC-Seal: i=1; a=rsa-sha256; t=1696925999; cv=none;\n",
      "        d=google.com; s=arc-20160816;\n",
      "        b=unb5Q9iZ1vFT+AcTov/Hb+ESw4cxD1uIJ1bXoLZl4q/1DHrZXFm+mXTuUmU2irVxNJ\n",
      "         3FWPOo8j0u6F65YDdSlgUwg0aYE3CaL41N3KIqs+CkFz/nQnt1fU7zdfgxGrp7EymVhd\n",
      "         DIHRhdHxcI06q7vjkmLyHX9sy89/uoS0709FCkIeFZSvlO2G/RLjUNeuXpYg3bwbBQyH\n",
      "         AWuNYvwezhkpPAo20/NXBDdnP/UN0Ehh4v2jBIK/WyhopyJH4J3xx7uBpoTW5Kf48wKN\n",
      "         0oX/OjEgz7NyQYXiWN7Jp9Jiq7ue2WexHbdBgec+o84oJmGzv4ei9DAsA0jr8dYVp4M+\n",
      "         DNVQ==\n",
      "ARC-Message-Signature: i=1; a=rsa-sha256; c=relaxed/relaxed; d=google.com; s=arc-20160816;\n",
      "        h=content-transfer-encoding:to:subject:message-id:date:mime-version\n",
      "         :from:dkim-signature;\n",
      "        bh=KGhNdVUzZTG0w7q0221HM4amuc3D7BZuDmiFumFjRVk=;\n",
      "        fh=5qy2N5k+VLYT/Uwjr3YsfUbKu/Tahvp8ugNm7wLQFmE=;\n",
      "        b=HH8EsqGzHVJ0GgpxzyGupFHecz/6ReimqnhaKTW5/zcVaQMfeRtxvP/ttmBSzEya9m\n",
      "         Pg8gGKTVjw7dbz7pEnY9a4HJAxYCe2HMgiIOV5gAwqxwWfVO/tVhcgNADoRWiNsxX4tp\n",
      "         7buflqcbOgGwm7RUtNYL/BhG8i6tMIbwpW3LWdgEio5o6qtWUA30yptX2ge/xEEBzfsU\n",
      "         vaoB1zgRU/12HTmPKfBkSL+cWZiU+MpplGdmKMd0tgcGVvsZ6yJFi2+xoj040OMCKRgz\n",
      "         cN4VvLcSiCufqzIdkgxpbemla7b4Qe1pNhVJqFO32vlAOMS9go3O1gvgkm3WoEnGS/6c\n",
      "         5Kjw==\n",
      "ARC-Authentication-Results: i=1; mx.google.com;\n",
      "       dkim=pass header.i=@gmail.com header.s=20230601 header.b=gbWpmnyR;\n",
      "       spf=pass (google.com: domain of mafal201116@gmail.com designates 209.85.220.41 as permitted sender) smtp.mailfrom=mafal201116@gmail.com;\n",
      "       dmarc=pass (p=NONE sp=QUARANTINE dis=NONE) header.from=gmail.com\n",
      "Return-Path: <mafal201116@gmail.com>\n",
      "Received: from mail-sor-f41.google.com (mail-sor-f41.google.com. [209.85.220.41])\n",
      "        by mx.google.com with SMTPS id a4-20020a1709027d8400b001c72c2c24e1sor5628873plm.7.2023.10.10.01.19.59\n",
      "        for <mafal201121@gmail.com>\n",
      "        (Google Transport Security);\n",
      "        Tue, 10 Oct 2023 01:19:59 -0700 (PDT)\n",
      "Received-SPF: pass (google.com: domain of mafal201116@gmail.com designates 209.85.220.41 as permitted sender) client-ip=209.85.220.41;\n",
      "Authentication-Results: mx.google.com;\n",
      "       dkim=pass header.i=@gmail.com header.s=20230601 header.b=gbWpmnyR;\n",
      "       spf=pass (google.com: domain of mafal201116@gmail.com designates 209.85.220.41 as permitted sender) smtp.mailfrom=mafal201116@gmail.com;\n",
      "       dmarc=pass (p=NONE sp=QUARANTINE dis=NONE) header.from=gmail.com\n",
      "DKIM-Signature: v=1; a=rsa-sha256; c=relaxed/relaxed;\n",
      "        d=gmail.com; s=20230601; t=1696925999; x=1697530799; dara=google.com;\n",
      "        h=content-transfer-encoding:to:subject:message-id:date:mime-version\n",
      "         :from:from:to:cc:subject:date:message-id:reply-to;\n",
      "        bh=KGhNdVUzZTG0w7q0221HM4amuc3D7BZuDmiFumFjRVk=;\n",
      "        b=gbWpmnyRVpu1ZpYfKXVtvU+i/HmIpVZP96WHWW8u75ZTVSceKwbqq53+qG/+9ieqFV\n",
      "         V76q2UWX6fx7wPWWHrE/QV00uaLQW4Z8y6YBn/Z7s9FnPr2wh5s5iwOcxTKX8yg1CPoN\n",
      "         z/eaZaPP4opVMTOqs3EgjI4q0yfvSwS0XDLhzBj6FgnhOpxXXgZ4LN0OkOVJIAz4L4ys\n",
      "         FZUhQKgmftWLsSUqQE2RbnhtTO41SdtGEnWZMCelLmjMCBYaCDoOhfpPKHL+ODJzID6C\n",
      "         lZqgaTBbs/vJf9hepQknUTRPUfSH+EbJPDmzecETwZ2esk8cmeO6/rv1HkwfFrTxO0ET\n",
      "         q0GA==\n",
      "X-Google-DKIM-Signature: v=1; a=rsa-sha256; c=relaxed/relaxed;\n",
      "        d=1e100.net; s=20230601; t=1696925999; x=1697530799;\n",
      "        h=content-transfer-encoding:to:subject:message-id:date:mime-version\n",
      "         :from:x-gm-message-state:from:to:cc:subject:date:message-id:reply-to;\n",
      "        bh=KGhNdVUzZTG0w7q0221HM4amuc3D7BZuDmiFumFjRVk=;\n",
      "        b=JJ87wvZk/NAhk27z25A7Pe1ZmzTd7PwL40VaGUBUnWLYk63fM0XmPrfkOJSGxR2Rn1\n",
      "         /NRXsMoBFh4AOMLv0/qUaNKPSgryWXnxcAxn9iH8zNVSivnzIKgtfzxZYFSwtBAJSVfA\n",
      "         pQ5xGBh54WKjdBepqYfqC8U5gQ6b0LHjuwnV1BJv6nxa0ZhAWbWQR+27/hPIFhZ2T+Gw\n",
      "         Z0+Lf0ums+4YsGnvYWKXPnZtWhrhkfV3CZWDhNYS37ZDrDfzc9ya3cp9XuPkyxrxWRb/\n",
      "         Qcw7qrvBah58g0Nz7Tjl6ZffCgxJvZNHLlUGc3/63Zri6DDrAgtB4wwCgi9lDUUI+vKw\n",
      "         /FcA==\n",
      "X-Gm-Message-State: AOJu0YzX7Ae5UcV1RRc3jAHHlGhAto6ep4W277HTLMjwY8qnIikb9cxo\n",
      "\tr/VTXO5hmhSrEgFf6ZRLEYgAPIVUzhLHF8o3QVkVxDR0ldc=\n",
      "X-Google-Smtp-Source: AGHT+IGIkTvKjr5qnl+zJgt9KqgY7PMnw3dfsrJvIxA3xu7MzIGfQjShcVYVW2O+yL+xFdbJcFhWckjMIsmVofpLAvs=\n",
      "X-Received: by 2002:a17:90b:4f49:b0:27c:f20d:841f with SMTP id\n",
      " pj9-20020a17090b4f4900b0027cf20d841fmr382259pjb.8.1696925998911; Tue, 10 Oct\n",
      " 2023 01:19:58 -0700 (PDT)\n",
      "Received: from 571413090288 named unknown by gmailapi.google.com with\n",
      " HTTPREST; Tue, 10 Oct 2023 03:19:58 -0500\n",
      "From: mafal201116@gmail.com\n",
      "MIME-Version: 1.0\n",
      "Date: Tue, 10 Oct 2023 03:19:58 -0500\n",
      "Message-ID: <CABAw37OOtmMiZ7gT9-XH_2Hf8PWbADybC6cNNjAypJ9M_0fXHg@mail.gmail.com>\n",
      "Subject: =?UTF-8?B?W1NNU+yekOuPmeyghOuLrF0gMDEwNzMwMDYyMjMo6rCV7KSA66qo7KeB7JuQL+yCrOybkA==?=\n",
      "\t=?UTF-8?B?TklU6riw7Iig7YyAKeuhnOu2gO2EsCDsg4jroZzsmrQg66mU7Iuc7KeAIC0gMTAuIDEwLiDsmKTtm4Qg?=\n",
      "\t=?UTF-8?B?NToxOA==?=\n",
      "To: mafal201121@gmail.com\n",
      "Content-Type: text/plain; charset=\"UTF-8\"\n",
      "Content-Transfer-Encoding: base64\n",
      "\n",
      "67O064K47IKs656MIDogMDEwNzMwMDYyMjMNCjMzMzMzDQo=\n",
      "\n"
     ]
    }
   ],
   "source": [
    "# 메일 본문을 가져옵니다\n",
    "for email_id in messages:\n",
    "    raw_message = imap_obj.fetch([email_id], ['BODY[]', 'FLAGS'])\n",
    "    print(raw_message[email_id][b'BODY[]'].decode('utf-8'))\n",
    "\n"
   ]
  },
  {
   "cell_type": "code",
   "execution_count": 39,
   "metadata": {},
   "outputs": [],
   "source": [
    "mail_Str = raw_message[email_id][b'BODY[]'].decode('utf-8')"
   ]
  },
  {
   "cell_type": "code",
   "execution_count": 40,
   "metadata": {},
   "outputs": [],
   "source": [
    "from email.parser import Parser\n",
    "from pathlib import Path\n",
    "import email.policy"
   ]
  },
  {
   "cell_type": "code",
   "execution_count": 41,
   "metadata": {},
   "outputs": [],
   "source": [
    "e = Parser(policy=email.policy.default).parsestr(mail_Str)"
   ]
  },
  {
   "cell_type": "code",
   "execution_count": 42,
   "metadata": {},
   "outputs": [
    {
     "name": "stdout",
     "output_type": "stream",
     "text": [
      "dict_keys(['Delivered-To', 'Received', 'X-Received', 'ARC-Seal', 'ARC-Message-Signature', 'ARC-Authentication-Results', 'Return-Path', 'Received-SPF', 'Authentication-Results', 'DKIM-Signature', 'X-Google-DKIM-Signature', 'X-Gm-Message-State', 'X-Google-Smtp-Source', 'From', 'MIME-Version', 'Date', 'Message-ID', 'Subject', 'To', 'Content-Type', 'Content-Transfer-Encoding'])\n"
     ]
    }
   ],
   "source": [
    "print(dict(e).keys())"
   ]
  },
  {
   "cell_type": "code",
   "execution_count": 43,
   "metadata": {},
   "outputs": [
    {
     "data": {
      "text/plain": [
       "'text/plain; charset=\"UTF-8\"'"
      ]
     },
     "execution_count": 43,
     "metadata": {},
     "output_type": "execute_result"
    }
   ],
   "source": [
    "dict(e)['Content-Type']"
   ]
  },
  {
   "cell_type": "code",
   "execution_count": 44,
   "metadata": {},
   "outputs": [
    {
     "name": "stdout",
     "output_type": "stream",
     "text": [
      "text/plain; charset=\"UTF-8\"\n",
      "보낸사람 : 01073006223\n",
      "33333\n",
      "\n"
     ]
    }
   ],
   "source": [
    "for i, body in enumerate(e.walk()):\n",
    "    print(c_type := body[\"Content-Type\"])\n",
    "    if (\"TEXT/\" in c_type.upper() and\n",
    "        \"UTF-8\" in c_type.upper()):\n",
    "        print(body.get_content())"
   ]
  },
  {
   "cell_type": "code",
   "execution_count": 41,
   "metadata": {},
   "outputs": [
    {
     "data": {
      "text/plain": [
       "b'LOGOUT Requested'"
      ]
     },
     "execution_count": 41,
     "metadata": {},
     "output_type": "execute_result"
    }
   ],
   "source": [
    "imap_obj.logout()"
   ]
  },
  {
   "cell_type": "markdown",
   "metadata": {},
   "source": [
    "# 발신자 검색해서 가져오기"
   ]
  },
  {
   "cell_type": "code",
   "execution_count": 42,
   "metadata": {},
   "outputs": [
    {
     "ename": "LoginError",
     "evalue": "b'[AUTHENTICATIONFAILED] Invalid credentials (Failure)'",
     "output_type": "error",
     "traceback": [
      "\u001b[0;31m---------------------------------------------------------------------------\u001b[0m",
      "\u001b[0;31merror\u001b[0m                                     Traceback (most recent call last)",
      "File \u001b[0;32m~/dev_study/otpass/venv/lib/python3.11/site-packages/imapclient/imapclient.py:392\u001b[0m, in \u001b[0;36mIMAPClient.login\u001b[0;34m(self, username, password)\u001b[0m\n\u001b[1;32m    391\u001b[0m \u001b[39mtry\u001b[39;00m:\n\u001b[0;32m--> 392\u001b[0m     rv \u001b[39m=\u001b[39m \u001b[39mself\u001b[39;49m\u001b[39m.\u001b[39;49m_command_and_check(\n\u001b[1;32m    393\u001b[0m         \u001b[39m\"\u001b[39;49m\u001b[39mlogin\u001b[39;49m\u001b[39m\"\u001b[39;49m,\n\u001b[1;32m    394\u001b[0m         to_unicode(username),\n\u001b[1;32m    395\u001b[0m         to_unicode(password),\n\u001b[1;32m    396\u001b[0m         unpack\u001b[39m=\u001b[39;49m\u001b[39mTrue\u001b[39;49;00m,\n\u001b[1;32m    397\u001b[0m     )\n\u001b[1;32m    398\u001b[0m \u001b[39mexcept\u001b[39;00m exceptions\u001b[39m.\u001b[39mIMAPClientError \u001b[39mas\u001b[39;00m e:\n",
      "File \u001b[0;32m~/dev_study/otpass/venv/lib/python3.11/site-packages/imapclient/imapclient.py:1738\u001b[0m, in \u001b[0;36mIMAPClient._command_and_check\u001b[0;34m(self, command, *args, **kwargs)\u001b[0m\n\u001b[1;32m   1737\u001b[0m     meth \u001b[39m=\u001b[39m \u001b[39mgetattr\u001b[39m(\u001b[39mself\u001b[39m\u001b[39m.\u001b[39m_imap, to_unicode(command))\n\u001b[0;32m-> 1738\u001b[0m     typ, data \u001b[39m=\u001b[39m meth(\u001b[39m*\u001b[39;49margs)\n\u001b[1;32m   1739\u001b[0m \u001b[39mself\u001b[39m\u001b[39m.\u001b[39m_checkok(command, typ, data)\n",
      "File \u001b[0;32m/usr/local/lib/python3.11/imaplib.py:612\u001b[0m, in \u001b[0;36mIMAP4.login\u001b[0;34m(self, user, password)\u001b[0m\n\u001b[1;32m    611\u001b[0m \u001b[39mif\u001b[39;00m typ \u001b[39m!=\u001b[39m \u001b[39m'\u001b[39m\u001b[39mOK\u001b[39m\u001b[39m'\u001b[39m:\n\u001b[0;32m--> 612\u001b[0m     \u001b[39mraise\u001b[39;00m \u001b[39mself\u001b[39m\u001b[39m.\u001b[39merror(dat[\u001b[39m-\u001b[39m\u001b[39m1\u001b[39m])\n\u001b[1;32m    613\u001b[0m \u001b[39mself\u001b[39m\u001b[39m.\u001b[39mstate \u001b[39m=\u001b[39m \u001b[39m'\u001b[39m\u001b[39mAUTH\u001b[39m\u001b[39m'\u001b[39m\n",
      "\u001b[0;31merror\u001b[0m: b'[AUTHENTICATIONFAILED] Invalid credentials (Failure)'",
      "\nDuring handling of the above exception, another exception occurred:\n",
      "\u001b[0;31mLoginError\u001b[0m                                Traceback (most recent call last)",
      "\u001b[1;32m/home/mafal/dev_study/otpass/test.ipynb Cell 9\u001b[0m line \u001b[0;36m6\n\u001b[1;32m      <a href='vscode-notebook-cell:/home/mafal/dev_study/otpass/test.ipynb#X26sZmlsZQ%3D%3D?line=2'>3</a>\u001b[0m \u001b[39m# IMAP 서버에 연결\u001b[39;00m\n\u001b[1;32m      <a href='vscode-notebook-cell:/home/mafal/dev_study/otpass/test.ipynb#X26sZmlsZQ%3D%3D?line=3'>4</a>\u001b[0m \u001b[39mwith\u001b[39;00m IMAPClient(host\u001b[39m=\u001b[39m\u001b[39m'\u001b[39m\u001b[39mimap.gmail.com\u001b[39m\u001b[39m'\u001b[39m) \u001b[39mas\u001b[39;00m client:\n\u001b[1;32m      <a href='vscode-notebook-cell:/home/mafal/dev_study/otpass/test.ipynb#X26sZmlsZQ%3D%3D?line=4'>5</a>\u001b[0m     \u001b[39m# 로그인 (이메일과 비밀번호로)\u001b[39;00m\n\u001b[0;32m----> <a href='vscode-notebook-cell:/home/mafal/dev_study/otpass/test.ipynb#X26sZmlsZQ%3D%3D?line=5'>6</a>\u001b[0m     client\u001b[39m.\u001b[39;49mlogin(\u001b[39m'\u001b[39;49m\u001b[39myour_email@gmail.com\u001b[39;49m\u001b[39m'\u001b[39;49m, \u001b[39m'\u001b[39;49m\u001b[39myour_password\u001b[39;49m\u001b[39m'\u001b[39;49m)\n\u001b[1;32m      <a href='vscode-notebook-cell:/home/mafal/dev_study/otpass/test.ipynb#X26sZmlsZQ%3D%3D?line=7'>8</a>\u001b[0m     \u001b[39m# 'INBOX' 폴더를 선택\u001b[39;00m\n\u001b[1;32m      <a href='vscode-notebook-cell:/home/mafal/dev_study/otpass/test.ipynb#X26sZmlsZQ%3D%3D?line=8'>9</a>\u001b[0m     client\u001b[39m.\u001b[39mselect_folder(\u001b[39m'\u001b[39m\u001b[39mINBOX\u001b[39m\u001b[39m'\u001b[39m)\n",
      "File \u001b[0;32m~/dev_study/otpass/venv/lib/python3.11/site-packages/imapclient/imapclient.py:399\u001b[0m, in \u001b[0;36mIMAPClient.login\u001b[0;34m(self, username, password)\u001b[0m\n\u001b[1;32m    392\u001b[0m     rv \u001b[39m=\u001b[39m \u001b[39mself\u001b[39m\u001b[39m.\u001b[39m_command_and_check(\n\u001b[1;32m    393\u001b[0m         \u001b[39m\"\u001b[39m\u001b[39mlogin\u001b[39m\u001b[39m\"\u001b[39m,\n\u001b[1;32m    394\u001b[0m         to_unicode(username),\n\u001b[1;32m    395\u001b[0m         to_unicode(password),\n\u001b[1;32m    396\u001b[0m         unpack\u001b[39m=\u001b[39m\u001b[39mTrue\u001b[39;00m,\n\u001b[1;32m    397\u001b[0m     )\n\u001b[1;32m    398\u001b[0m \u001b[39mexcept\u001b[39;00m exceptions\u001b[39m.\u001b[39mIMAPClientError \u001b[39mas\u001b[39;00m e:\n\u001b[0;32m--> 399\u001b[0m     \u001b[39mraise\u001b[39;00m exceptions\u001b[39m.\u001b[39mLoginError(\u001b[39mstr\u001b[39m(e))\n\u001b[1;32m    401\u001b[0m logger\u001b[39m.\u001b[39mdebug(\u001b[39m\"\u001b[39m\u001b[39mLogged in as \u001b[39m\u001b[39m%s\u001b[39;00m\u001b[39m\"\u001b[39m, username)\n\u001b[1;32m    402\u001b[0m \u001b[39mreturn\u001b[39;00m rv\n",
      "\u001b[0;31mLoginError\u001b[0m: b'[AUTHENTICATIONFAILED] Invalid credentials (Failure)'"
     ]
    }
   ],
   "source": [
    "from imapclient import IMAPClient\n",
    "\n",
    "# IMAP 서버에 연결\n",
    "with IMAPClient(host='imap.gmail.com') as client:\n",
    "    # 로그인 (이메일과 비밀번호로)\n",
    "    client.login('your_email@gmail.com', 'your_password')\n",
    "    \n",
    "    # 'INBOX' 폴더를 선택\n",
    "    client.select_folder('INBOX')\n",
    "    \n",
    "    # 메시지 검색: 이 경우, \"example@example.com\" 이메일 주소에서 온 메일을 검색\n",
    "    messages = client.search(['FROM', 'mafal2011@naver.com'])\n",
    "    \n",
    "    # 메시지 내용 가져오기\n",
    "    for msg_id, msg_data in client.fetch(messages, ['ENVELOPE']).items():\n",
    "        envelope = msg_data[b'ENVELOPE']\n",
    "        print('From: %s' % envelope.from_[0].mailbox.decode(), end='@')\n",
    "        print(envelope.from_[0].host.decode())\n",
    "        print('Subject: %s' % envelope.subject.decode())\n",
    "        print('-' * 30)\n",
    "    \n",
    "    client.logout()\n"
   ]
  },
  {
   "cell_type": "code",
   "execution_count": null,
   "metadata": {},
   "outputs": [],
   "source": []
  }
 ],
 "metadata": {
  "kernelspec": {
   "display_name": "Python 3 (ipykernel)",
   "language": "python",
   "name": "python3"
  },
  "language_info": {
   "codemirror_mode": {
    "name": "ipython",
    "version": 3
   },
   "file_extension": ".py",
   "mimetype": "text/x-python",
   "name": "python",
   "nbconvert_exporter": "python",
   "pygments_lexer": "ipython3",
   "version": "3.11.6"
  }
 },
 "nbformat": 4,
 "nbformat_minor": 4
}
