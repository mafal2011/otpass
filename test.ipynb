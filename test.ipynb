{
 "cells": [
  {
   "cell_type": "markdown",
   "metadata": {},
   "source": [
    "[imapclient 사용법] https://bokyeong-kim.github.io/python/basic/2020/07/27/python-basic(5).html"
   ]
  },
  {
   "cell_type": "code",
   "execution_count": 1,
   "metadata": {},
   "outputs": [],
   "source": [
    "import imapclient"
   ]
  },
  {
   "cell_type": "code",
   "execution_count": 2,
   "metadata": {},
   "outputs": [
    {
     "data": {
      "text/plain": [
       "b'mafal201121@gmail.com authenticated (Success)'"
      ]
     },
     "execution_count": 2,
     "metadata": {},
     "output_type": "execute_result"
    }
   ],
   "source": [
    "EMAIL = 'mafal201121@gmail.com'  # 본인의 이메일 주소를 입력하세요.\n",
    "\n",
    "# 암호를 입력합니다. (입력 시 암호가 표시되지 않습니다)\n",
    "password = 'goyqgwyjnmprnigo'\n",
    "\n",
    "# IMAP 서버에 연결하고 로그인합니다\n",
    "imap_obj = imapclient.IMAPClient('imap.gmail.com', ssl=True)\n",
    "imap_obj.login(EMAIL, password)\n"
   ]
  },
  {
   "cell_type": "code",
   "execution_count": 3,
   "metadata": {},
   "outputs": [
    {
     "data": {
      "text/plain": [
       "{b'PERMANENTFLAGS': (),\n",
       " b'FLAGS': (b'\\\\Answered',\n",
       "  b'\\\\Flagged',\n",
       "  b'\\\\Draft',\n",
       "  b'\\\\Deleted',\n",
       "  b'\\\\Seen',\n",
       "  b'$NotPhishing',\n",
       "  b'$Phishing'),\n",
       " b'UIDVALIDITY': 1,\n",
       " b'EXISTS': 946,\n",
       " b'RECENT': 0,\n",
       " b'UIDNEXT': 1069,\n",
       " b'HIGHESTMODSEQ': 315962,\n",
       " b'READ-ONLY': [b'']}"
      ]
     },
     "execution_count": 3,
     "metadata": {},
     "output_type": "execute_result"
    }
   ],
   "source": [
    "# 'INBOX' 폴더를 선택합니다\n",
    "imap_obj.select_folder('INBOX', readonly=True)\n"
   ]
  },
  {
   "cell_type": "code",
   "execution_count": 48,
   "metadata": {},
   "outputs": [],
   "source": [
    "# 최근 10개의 메일을 검색합니다\n",
    "email_ids = imap_obj.search(['ALL'])[-10:]"
   ]
  },
  {
   "cell_type": "code",
   "execution_count": 49,
   "metadata": {},
   "outputs": [
    {
     "data": {
      "text/plain": [
       "[1054, 1055, 1056, 1057, 1058, 1059, 1060, 1061, 1062, 1063]"
      ]
     },
     "execution_count": 49,
     "metadata": {},
     "output_type": "execute_result"
    }
   ],
   "source": [
    "email_ids"
   ]
  },
  {
   "cell_type": "code",
   "execution_count": 19,
   "metadata": {},
   "outputs": [],
   "source": [
    "# messages = imap_obj.search(['FROM', 'mafal201116@gmail.com'])[-1:]\n",
    "messages = imap_obj.search(['FROM', 'mafal2011@naver.com'])[-1:]"
   ]
  },
  {
   "cell_type": "code",
   "execution_count": 20,
   "metadata": {},
   "outputs": [
    {
     "data": {
      "text/plain": [
       "1066"
      ]
     },
     "execution_count": 20,
     "metadata": {},
     "output_type": "execute_result"
    }
   ],
   "source": [
    "messages[-1]"
   ]
  },
  {
   "cell_type": "code",
   "execution_count": 21,
   "metadata": {},
   "outputs": [
    {
     "name": "stdout",
     "output_type": "stream",
     "text": [
      "Delivered-To: mafal201121@gmail.com\n",
      "Received: by 2002:ac4:cc91:0:b0:66e:db78:6003 with SMTP id z17csp2447981pin;\n",
      "        Tue, 10 Oct 2023 00:12:37 -0700 (PDT)\n",
      "X-Google-Smtp-Source: AGHT+IF+00QDDo0+6gPC4mAroeqpyCVCJS4NaFmXZNXeHt+xgTEDRWIX8Kp5/pXvg4q34icoQx19\n",
      "X-Received: by 2002:a05:6a00:1255:b0:690:d718:8c6d with SMTP id u21-20020a056a00125500b00690d7188c6dmr17611648pfi.15.1696921957024;\n",
      "        Tue, 10 Oct 2023 00:12:37 -0700 (PDT)\n",
      "ARC-Seal: i=1; a=rsa-sha256; t=1696921957; cv=none;\n",
      "        d=google.com; s=arc-20160816;\n",
      "        b=NMVsyXDzFcGGt//BjRbhbi7XVvHSYeX+5QoYD/mRaC+wpBNmp1YDUT+QjHuEtOidYS\n",
      "         quUwdBC428qsq9ch/cX82WnMSGuuCzmLgicdyy6bqXg+BgV6ZCUNqmN0Ygsgsj8au0jJ\n",
      "         F9V8xLfu6+YwcZQBWot10takZM4wx+TYaczbeVZpJWCjublw3zyymmsq8Zrhz39ITX6J\n",
      "         RyebOfdI4LIIL/TybkZnpMd5WtdSPheqsDqUszS4Qqo9dJ7VdKr2xUV/pCVCfLkRJNpE\n",
      "         dcqPNiQcMvgTYwnyPSkZB2m+gGOjDcCagRf0vPmeks0EHGdmEsa3dozaIgTUiqHczavT\n",
      "         CraA==\n",
      "ARC-Message-Signature: i=1; a=rsa-sha256; c=relaxed/relaxed; d=google.com; s=arc-20160816;\n",
      "        h=subject:to:importance:from:date:message-id:mime-version\n",
      "         :dkim-signature;\n",
      "        bh=RmV1QKXpGwQBn+eE7PORHvDt4nU3p+XKdRKjrkrYhp4=;\n",
      "        fh=G0SrzSd1Yrz5ffMJQTaGrSk8RRT67tLI5hrXVRweQHA=;\n",
      "        b=QZs8mVMGtpwuKBKVnHRX8Ai5QbY15CrBPbFuldNeG+HoklH/J+aBWB1VkGvtDSQllU\n",
      "         rLsckAf29QNQRJus/riCVR5GZmqh7NzrBfcCXrgb45sYWmQC1GgUEBjD9AUGsf0hh6ki\n",
      "         xZdI14P072s/OhSJjRyD+edFQfoW7RPbIIIn5VptdTXxF+QFuIjZmUKlJMgPd+tI87GY\n",
      "         CQwrlq1AC2lBeIYRDSt1Rvb+LqxBWIfDFAV+98NsoMYEHs6BbLFyvlyYu6fM30nU9n2/\n",
      "         0M+qdfvfdreZGMNzVmQqi3LO16KH0yRDcfkzrAs0n622GX9zj5ZgcBya7nKkR9wzzf2j\n",
      "         yoxA==\n",
      "ARC-Authentication-Results: i=1; mx.google.com;\n",
      "       dkim=pass header.i=@naver.com header.s=s20171208 header.b=G4ZSL4ck;\n",
      "       spf=pass (google.com: domain of mafal2011@naver.com designates 114.111.35.41 as permitted sender) smtp.mailfrom=mafal2011@naver.com;\n",
      "       dmarc=pass (p=NONE sp=NONE dis=NONE) header.from=naver.com\n",
      "Return-Path: <mafal2011@naver.com>\n",
      "Received: from cvsmtppost33.nm.naver.com (cvsmtppost33.nm.naver.com. [114.111.35.41])\n",
      "        by mx.google.com with ESMTPS id z26-20020a056a001d9a00b0069342cee02esi8748124pfw.298.2023.10.10.00.12.36\n",
      "        for <mafal201121@gmail.com>\n",
      "        (version=TLS1_2 cipher=ECDHE-ECDSA-AES128-GCM-SHA256 bits=128/128);\n",
      "        Tue, 10 Oct 2023 00:12:37 -0700 (PDT)\n",
      "Received-SPF: pass (google.com: domain of mafal2011@naver.com designates 114.111.35.41 as permitted sender) client-ip=114.111.35.41;\n",
      "Authentication-Results: mx.google.com;\n",
      "       dkim=pass header.i=@naver.com header.s=s20171208 header.b=G4ZSL4ck;\n",
      "       spf=pass (google.com: domain of mafal2011@naver.com designates 114.111.35.41 as permitted sender) smtp.mailfrom=mafal2011@naver.com;\n",
      "       dmarc=pass (p=NONE sp=NONE dis=NONE) header.from=naver.com\n",
      "X-Originating-IP: 118.235.33.234\n",
      "X-Works-Smtp-Source: zXY/aAMlFoJCpNm9FxElWHF0\n",
      "Received: from cvsendbo017.nm ([10.112.18.57])\n",
      "  by cvsmtppost33.nm.naver.com with ESMTP id nSQZ0iLqQ2CMifk0oILFrg\n",
      "  for <mafal201121@gmail.com>;\n",
      "  Tue, 10 Oct 2023 07:12:35 -0000\n",
      "DKIM-Signature: v=1; a=rsa-sha256; c=relaxed/simple; d=naver.com; s=s20171208;\n",
      "\tt=1696921955; bh=RJMRZTVrD4agRa8T+P8VFRmSdpUjn/YPK6Hj1oA3Mfw=;\n",
      "\th=Message-ID:Date:From:To:Subject:From:Subject:Feedback-ID:\n",
      "\t X-Works-Security;\n",
      "\tb=G4ZSL4ckEeM7aD86GUadhbMliLbIg8hT/6U0EZQPY2xCLbMsCHwBBXgTUNpb6B5EJ\n",
      "\t 98OzL+ZZOHzlxB0Gt3RX49PCls9QDEnL5SuInXvZzkIDUocLNpM9B8rxth/RK31+MP\n",
      "\t H6USWX77zkLIOhHbTkOP452LGRQaMO5s8+D9aYspzlwlwqfUIX3BnM+8QwQlS+N5l/\n",
      "\t AWUq5zXxxzfeon7mQkK3ds2yiHrgyPylXEjkptzNPCX0dEfTAhLmZaTYWz2BJr+ixC\n",
      "\t UbQ5HM+f4venEJbZnEwhoaMY59Uw7fD+PEc2pj79ut64mSiogOCFjbgpd/uDLDEm+Q\n",
      "\t RopSI+13CsgUw==\n",
      "X-Session-ID: cenmKxKZKAUlFqvwBqgw7r9Cp4JnKogwKLY9FovlKoulKqvXFqE\n",
      "MIME-Version: 1.0\n",
      "Message-ID: <a62d33ce59cd9225d4bc6687741db4e6@cweb007.nm.nfra.io>\n",
      "Date: Tue, 10 Oct 2023 16:12:34 +0900\n",
      "From: =?utf-8?B?6rCV7KSA66qo?= <mafal2011@naver.com>\n",
      "Importance: normal\n",
      "To: <mafal201121@gmail.com>\n",
      "Subject: =?utf-8?B?7YWM7Iqk7Yq467Cc7Iug?=\n",
      "X-Originating-IP: 118.235.33.234\n",
      "X-Works-Send-Opt: 3eYwjAIYjHmmFxuwKqJYKAv/aBwFjAu=\n",
      "Content-Type: multipart/alternative;\n",
      "\tboundary=\"-----Boundary-WM=_7f4c575de700.1696921955128\"\n",
      "\n",
      "-------Boundary-WM=_7f4c575de700.1696921955128\n",
      "Content-Type: text/plain;\n",
      "\tcharset=\"utf-8\"\n",
      "Content-Transfer-Encoding: base64\n",
      "\n",
      "7YWM7Iqk7Yq467Cc7IugCg==\n",
      "\n",
      "-------Boundary-WM=_7f4c575de700.1696921955128\n",
      "Content-Type: text/html;\n",
      "\tcharset=\"utf-8\"\n",
      "Content-Transfer-Encoding: base64\n",
      "\n",
      "PGh0bWw+PGhlYWQ+PHN0eWxlPnB7bWFyZ2luLXRvcDowcHg7bWFyZ2luLWJvdHRvbTowcHg7fTwv\n",
      "c3R5bGU+PC9oZWFkPjxib2R5PjxkaXYgc3R5bGU9ImZvbnQtc2l6ZToxNHB4OyBmb250LWZhbWls\n",
      "eTpHdWxpbSzqtbTrprwsc2Fucy1zZXJpZjsiPu2FjOyKpO2KuOuwnOyLoDwvZGl2PjwvYm9keT48\n",
      "L2h0bWw+PHRhYmxlIHN0eWxlPSdkaXNwbGF5Om5vbmUnPjx0cj48dGQ+PGltZyBzcmM9Imh0dHBz\n",
      "Oi8vbWFpbC5uYXZlci5jb20vcmVhZFJlY2VpcHQvbm90aWZ5Lz9pbWc9cVpLWld6SjRNNmRyTXht\n",
      "c0t4dW1LNHRxS3JGMEZ4MG9wQXZaS29rdkZ6aW9Gb00lMkZGcWJkSzYzU0Z6RXJ0ekZYcDZVbUtB\n",
      "YjVXNGQ1VzRwWk1MbEdXcSUyRnNXNko0TTZtWktBdXdLb0pncHI5QzE2bTVNcmVSLmdpZiIgYm9y\n",
      "ZGVyPSIwIi8+PC90ZD48L3RyPjwvdGFibGU+\n",
      "\n",
      "-------Boundary-WM=_7f4c575de700.1696921955128--\n",
      "\n"
     ]
    }
   ],
   "source": [
    "# 메일 본문을 가져옵니다\n",
    "for email_id in messages:\n",
    "    raw_message = imap_obj.fetch([email_id], ['BODY[]', 'FLAGS'])\n",
    "    print(raw_message[email_id][b'BODY[]'].decode('utf-8'))\n",
    "\n"
   ]
  },
  {
   "cell_type": "code",
   "execution_count": 22,
   "metadata": {},
   "outputs": [],
   "source": [
    "mail_Str = raw_message[email_id][b'BODY[]'].decode('utf-8')"
   ]
  },
  {
   "cell_type": "code",
   "execution_count": 7,
   "metadata": {},
   "outputs": [],
   "source": [
    "from email.parser import Parser\n",
    "from pathlib import Path\n",
    "import email.policy"
   ]
  },
  {
   "cell_type": "code",
   "execution_count": 23,
   "metadata": {},
   "outputs": [],
   "source": [
    "e = Parser(policy=email.policy.default).parsestr(mail_Str)"
   ]
  },
  {
   "cell_type": "code",
   "execution_count": 24,
   "metadata": {},
   "outputs": [
    {
     "name": "stdout",
     "output_type": "stream",
     "text": [
      "dict_keys(['Delivered-To', 'Received', 'X-Google-Smtp-Source', 'X-Received', 'ARC-Seal', 'ARC-Message-Signature', 'ARC-Authentication-Results', 'Return-Path', 'Received-SPF', 'Authentication-Results', 'X-Originating-IP', 'X-Works-Smtp-Source', 'DKIM-Signature', 'X-Session-ID', 'MIME-Version', 'Message-ID', 'Date', 'From', 'Importance', 'To', 'Subject', 'X-Works-Send-Opt', 'Content-Type'])\n"
     ]
    }
   ],
   "source": [
    "print(dict(e).keys())"
   ]
  },
  {
   "cell_type": "code",
   "execution_count": 25,
   "metadata": {},
   "outputs": [
    {
     "data": {
      "text/plain": [
       "'multipart/alternative; boundary=\"-----Boundary-WM=_7f4c575de700.1696921955128\"'"
      ]
     },
     "execution_count": 25,
     "metadata": {},
     "output_type": "execute_result"
    }
   ],
   "source": [
    "dict(e)['Content-Type']"
   ]
  },
  {
   "cell_type": "code",
   "execution_count": 34,
   "metadata": {},
   "outputs": [
    {
     "name": "stdout",
     "output_type": "stream",
     "text": [
      "multipart/alternative; boundary=\"-----Boundary-WM=_7f4c575de700.1696921955128\"\n",
      "text/plain; charset=\"utf-8\"\n",
      "테스트발신\n",
      "\n",
      "text/html; charset=\"utf-8\"\n",
      "<html><head><style>p{margin-top:0px;margin-bottom:0px;}</style></head><body><div style=\"font-size:14px; font-family:Gulim,굴림,sans-serif;\">테스트발신</div></body></html><table style='display:none'><tr><td><img src=\"https://mail.naver.com/readReceipt/notify/?img=qZKZWzJ4M6drMxmsKxumK4tqKrF0Fx0opAvZKokvFzioFoM%2FFqbdK63SFzErtzFXp6UmKAb5W4d5W4pZMLlGWq%2FsW6J4M6mZKAuwKoJgpr9C16m5MreR.gif\" border=\"0\"/></td></tr></table>\n"
     ]
    }
   ],
   "source": [
    "for i, body in enumerate(e.walk()):\n",
    "    print(c_type := body[\"Content-Type\"])\n",
    "    if (\"TEXT/\" in c_type.upper() and\n",
    "        \"UTF-8\" in c_type.upper()):\n",
    "        print(body.get_content())"
   ]
  },
  {
   "cell_type": "code",
   "execution_count": 41,
   "metadata": {},
   "outputs": [
    {
     "data": {
      "text/plain": [
       "b'LOGOUT Requested'"
      ]
     },
     "execution_count": 41,
     "metadata": {},
     "output_type": "execute_result"
    }
   ],
   "source": [
    "imap_obj.logout()"
   ]
  },
  {
   "cell_type": "markdown",
   "metadata": {},
   "source": [
    "# 발신자 검색해서 가져오기"
   ]
  },
  {
   "cell_type": "code",
   "execution_count": 42,
   "metadata": {},
   "outputs": [
    {
     "ename": "LoginError",
     "evalue": "b'[AUTHENTICATIONFAILED] Invalid credentials (Failure)'",
     "output_type": "error",
     "traceback": [
      "\u001b[0;31m---------------------------------------------------------------------------\u001b[0m",
      "\u001b[0;31merror\u001b[0m                                     Traceback (most recent call last)",
      "File \u001b[0;32m~/dev_study/otpass/venv/lib/python3.11/site-packages/imapclient/imapclient.py:392\u001b[0m, in \u001b[0;36mIMAPClient.login\u001b[0;34m(self, username, password)\u001b[0m\n\u001b[1;32m    391\u001b[0m \u001b[39mtry\u001b[39;00m:\n\u001b[0;32m--> 392\u001b[0m     rv \u001b[39m=\u001b[39m \u001b[39mself\u001b[39;49m\u001b[39m.\u001b[39;49m_command_and_check(\n\u001b[1;32m    393\u001b[0m         \u001b[39m\"\u001b[39;49m\u001b[39mlogin\u001b[39;49m\u001b[39m\"\u001b[39;49m,\n\u001b[1;32m    394\u001b[0m         to_unicode(username),\n\u001b[1;32m    395\u001b[0m         to_unicode(password),\n\u001b[1;32m    396\u001b[0m         unpack\u001b[39m=\u001b[39;49m\u001b[39mTrue\u001b[39;49;00m,\n\u001b[1;32m    397\u001b[0m     )\n\u001b[1;32m    398\u001b[0m \u001b[39mexcept\u001b[39;00m exceptions\u001b[39m.\u001b[39mIMAPClientError \u001b[39mas\u001b[39;00m e:\n",
      "File \u001b[0;32m~/dev_study/otpass/venv/lib/python3.11/site-packages/imapclient/imapclient.py:1738\u001b[0m, in \u001b[0;36mIMAPClient._command_and_check\u001b[0;34m(self, command, *args, **kwargs)\u001b[0m\n\u001b[1;32m   1737\u001b[0m     meth \u001b[39m=\u001b[39m \u001b[39mgetattr\u001b[39m(\u001b[39mself\u001b[39m\u001b[39m.\u001b[39m_imap, to_unicode(command))\n\u001b[0;32m-> 1738\u001b[0m     typ, data \u001b[39m=\u001b[39m meth(\u001b[39m*\u001b[39;49margs)\n\u001b[1;32m   1739\u001b[0m \u001b[39mself\u001b[39m\u001b[39m.\u001b[39m_checkok(command, typ, data)\n",
      "File \u001b[0;32m/usr/local/lib/python3.11/imaplib.py:612\u001b[0m, in \u001b[0;36mIMAP4.login\u001b[0;34m(self, user, password)\u001b[0m\n\u001b[1;32m    611\u001b[0m \u001b[39mif\u001b[39;00m typ \u001b[39m!=\u001b[39m \u001b[39m'\u001b[39m\u001b[39mOK\u001b[39m\u001b[39m'\u001b[39m:\n\u001b[0;32m--> 612\u001b[0m     \u001b[39mraise\u001b[39;00m \u001b[39mself\u001b[39m\u001b[39m.\u001b[39merror(dat[\u001b[39m-\u001b[39m\u001b[39m1\u001b[39m])\n\u001b[1;32m    613\u001b[0m \u001b[39mself\u001b[39m\u001b[39m.\u001b[39mstate \u001b[39m=\u001b[39m \u001b[39m'\u001b[39m\u001b[39mAUTH\u001b[39m\u001b[39m'\u001b[39m\n",
      "\u001b[0;31merror\u001b[0m: b'[AUTHENTICATIONFAILED] Invalid credentials (Failure)'",
      "\nDuring handling of the above exception, another exception occurred:\n",
      "\u001b[0;31mLoginError\u001b[0m                                Traceback (most recent call last)",
      "\u001b[1;32m/home/mafal/dev_study/otpass/test.ipynb Cell 9\u001b[0m line \u001b[0;36m6\n\u001b[1;32m      <a href='vscode-notebook-cell:/home/mafal/dev_study/otpass/test.ipynb#X26sZmlsZQ%3D%3D?line=2'>3</a>\u001b[0m \u001b[39m# IMAP 서버에 연결\u001b[39;00m\n\u001b[1;32m      <a href='vscode-notebook-cell:/home/mafal/dev_study/otpass/test.ipynb#X26sZmlsZQ%3D%3D?line=3'>4</a>\u001b[0m \u001b[39mwith\u001b[39;00m IMAPClient(host\u001b[39m=\u001b[39m\u001b[39m'\u001b[39m\u001b[39mimap.gmail.com\u001b[39m\u001b[39m'\u001b[39m) \u001b[39mas\u001b[39;00m client:\n\u001b[1;32m      <a href='vscode-notebook-cell:/home/mafal/dev_study/otpass/test.ipynb#X26sZmlsZQ%3D%3D?line=4'>5</a>\u001b[0m     \u001b[39m# 로그인 (이메일과 비밀번호로)\u001b[39;00m\n\u001b[0;32m----> <a href='vscode-notebook-cell:/home/mafal/dev_study/otpass/test.ipynb#X26sZmlsZQ%3D%3D?line=5'>6</a>\u001b[0m     client\u001b[39m.\u001b[39;49mlogin(\u001b[39m'\u001b[39;49m\u001b[39myour_email@gmail.com\u001b[39;49m\u001b[39m'\u001b[39;49m, \u001b[39m'\u001b[39;49m\u001b[39myour_password\u001b[39;49m\u001b[39m'\u001b[39;49m)\n\u001b[1;32m      <a href='vscode-notebook-cell:/home/mafal/dev_study/otpass/test.ipynb#X26sZmlsZQ%3D%3D?line=7'>8</a>\u001b[0m     \u001b[39m# 'INBOX' 폴더를 선택\u001b[39;00m\n\u001b[1;32m      <a href='vscode-notebook-cell:/home/mafal/dev_study/otpass/test.ipynb#X26sZmlsZQ%3D%3D?line=8'>9</a>\u001b[0m     client\u001b[39m.\u001b[39mselect_folder(\u001b[39m'\u001b[39m\u001b[39mINBOX\u001b[39m\u001b[39m'\u001b[39m)\n",
      "File \u001b[0;32m~/dev_study/otpass/venv/lib/python3.11/site-packages/imapclient/imapclient.py:399\u001b[0m, in \u001b[0;36mIMAPClient.login\u001b[0;34m(self, username, password)\u001b[0m\n\u001b[1;32m    392\u001b[0m     rv \u001b[39m=\u001b[39m \u001b[39mself\u001b[39m\u001b[39m.\u001b[39m_command_and_check(\n\u001b[1;32m    393\u001b[0m         \u001b[39m\"\u001b[39m\u001b[39mlogin\u001b[39m\u001b[39m\"\u001b[39m,\n\u001b[1;32m    394\u001b[0m         to_unicode(username),\n\u001b[1;32m    395\u001b[0m         to_unicode(password),\n\u001b[1;32m    396\u001b[0m         unpack\u001b[39m=\u001b[39m\u001b[39mTrue\u001b[39;00m,\n\u001b[1;32m    397\u001b[0m     )\n\u001b[1;32m    398\u001b[0m \u001b[39mexcept\u001b[39;00m exceptions\u001b[39m.\u001b[39mIMAPClientError \u001b[39mas\u001b[39;00m e:\n\u001b[0;32m--> 399\u001b[0m     \u001b[39mraise\u001b[39;00m exceptions\u001b[39m.\u001b[39mLoginError(\u001b[39mstr\u001b[39m(e))\n\u001b[1;32m    401\u001b[0m logger\u001b[39m.\u001b[39mdebug(\u001b[39m\"\u001b[39m\u001b[39mLogged in as \u001b[39m\u001b[39m%s\u001b[39;00m\u001b[39m\"\u001b[39m, username)\n\u001b[1;32m    402\u001b[0m \u001b[39mreturn\u001b[39;00m rv\n",
      "\u001b[0;31mLoginError\u001b[0m: b'[AUTHENTICATIONFAILED] Invalid credentials (Failure)'"
     ]
    }
   ],
   "source": [
    "from imapclient import IMAPClient\n",
    "\n",
    "# IMAP 서버에 연결\n",
    "with IMAPClient(host='imap.gmail.com') as client:\n",
    "    # 로그인 (이메일과 비밀번호로)\n",
    "    client.login('your_email@gmail.com', 'your_password')\n",
    "    \n",
    "    # 'INBOX' 폴더를 선택\n",
    "    client.select_folder('INBOX')\n",
    "    \n",
    "    # 메시지 검색: 이 경우, \"example@example.com\" 이메일 주소에서 온 메일을 검색\n",
    "    messages = client.search(['FROM', 'mafal2011@naver.com'])\n",
    "    \n",
    "    # 메시지 내용 가져오기\n",
    "    for msg_id, msg_data in client.fetch(messages, ['ENVELOPE']).items():\n",
    "        envelope = msg_data[b'ENVELOPE']\n",
    "        print('From: %s' % envelope.from_[0].mailbox.decode(), end='@')\n",
    "        print(envelope.from_[0].host.decode())\n",
    "        print('Subject: %s' % envelope.subject.decode())\n",
    "        print('-' * 30)\n",
    "    \n",
    "    client.logout()\n"
   ]
  },
  {
   "cell_type": "code",
   "execution_count": null,
   "metadata": {},
   "outputs": [],
   "source": []
  }
 ],
 "metadata": {
  "kernelspec": {
   "display_name": "venv",
   "language": "python",
   "name": "python3"
  },
  "language_info": {
   "codemirror_mode": {
    "name": "ipython",
    "version": 3
   },
   "file_extension": ".py",
   "mimetype": "text/x-python",
   "name": "python",
   "nbconvert_exporter": "python",
   "pygments_lexer": "ipython3",
   "version": "3.11.6"
  }
 },
 "nbformat": 4,
 "nbformat_minor": 4
}
