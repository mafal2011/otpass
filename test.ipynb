{
 "cells": [
  {
   "cell_type": "code",
   "execution_count": 4,
   "metadata": {},
   "outputs": [],
   "source": [
    "import imaplib\n",
    "import email"
   ]
  },
  {
   "cell_type": "code",
   "execution_count": 8,
   "metadata": {},
   "outputs": [],
   "source": [
    "mail_adr = 'magal201121@gmail.com'\n",
    "mail_ps = 'goyq gwyj nmpr nigo'"
   ]
  },
  {
   "cell_type": "code",
   "execution_count": 6,
   "metadata": {},
   "outputs": [],
   "source": [
    "imap = imaplib.IMAP4_SSL('smtp.gmail.com', \"993\")"
   ]
  },
  {
   "cell_type": "code",
   "execution_count": 9,
   "metadata": {},
   "outputs": [
    {
     "ename": "error",
     "evalue": "b'[AUTHENTICATIONFAILED] Invalid credentials (Failure)'",
     "output_type": "error",
     "traceback": [
      "\u001b[0;31m---------------------------------------------------------------------------\u001b[0m",
      "\u001b[0;31merror\u001b[0m                                     Traceback (most recent call last)",
      "\u001b[1;32m/home/mafal/dev_study/otpass/test.ipynb Cell 4\u001b[0m line \u001b[0;36m1\n\u001b[0;32m----> <a href='vscode-notebook-cell:/home/mafal/dev_study/otpass/test.ipynb#W3sZmlsZQ%3D%3D?line=0'>1</a>\u001b[0m imap\u001b[39m.\u001b[39;49mlogin(mail_adr, mail_ps)\n",
      "File \u001b[0;32m/usr/local/lib/python3.11/imaplib.py:612\u001b[0m, in \u001b[0;36mIMAP4.login\u001b[0;34m(self, user, password)\u001b[0m\n\u001b[1;32m    610\u001b[0m typ, dat \u001b[39m=\u001b[39m \u001b[39mself\u001b[39m\u001b[39m.\u001b[39m_simple_command(\u001b[39m'\u001b[39m\u001b[39mLOGIN\u001b[39m\u001b[39m'\u001b[39m, user, \u001b[39mself\u001b[39m\u001b[39m.\u001b[39m_quote(password))\n\u001b[1;32m    611\u001b[0m \u001b[39mif\u001b[39;00m typ \u001b[39m!=\u001b[39m \u001b[39m'\u001b[39m\u001b[39mOK\u001b[39m\u001b[39m'\u001b[39m:\n\u001b[0;32m--> 612\u001b[0m     \u001b[39mraise\u001b[39;00m \u001b[39mself\u001b[39m\u001b[39m.\u001b[39merror(dat[\u001b[39m-\u001b[39m\u001b[39m1\u001b[39m])\n\u001b[1;32m    613\u001b[0m \u001b[39mself\u001b[39m\u001b[39m.\u001b[39mstate \u001b[39m=\u001b[39m \u001b[39m'\u001b[39m\u001b[39mAUTH\u001b[39m\u001b[39m'\u001b[39m\n\u001b[1;32m    614\u001b[0m \u001b[39mreturn\u001b[39;00m typ, dat\n",
      "\u001b[0;31merror\u001b[0m: b'[AUTHENTICATIONFAILED] Invalid credentials (Failure)'"
     ]
    }
   ],
   "source": [
    "imap.login(mail_adr, mail_ps)"
   ]
  },
  {
   "cell_type": "code",
   "execution_count": 11,
   "metadata": {},
   "outputs": [],
   "source": [
    "import imapclient\n",
    "import getpass"
   ]
  },
  {
   "cell_type": "code",
   "execution_count": 12,
   "metadata": {},
   "outputs": [],
   "source": [
    "password = getpass.getpass(\"Enter your Gmail password: \")"
   ]
  },
  {
   "cell_type": "code",
   "execution_count": 13,
   "metadata": {},
   "outputs": [
    {
     "data": {
      "text/plain": [
       "'dhdmseka'"
      ]
     },
     "execution_count": 13,
     "metadata": {},
     "output_type": "execute_result"
    }
   ],
   "source": [
    "password"
   ]
  },
  {
   "cell_type": "code",
   "execution_count": 14,
   "metadata": {},
   "outputs": [
    {
     "data": {
      "text/plain": [
       "'dhdmseka'"
      ]
     },
     "execution_count": 14,
     "metadata": {},
     "output_type": "execute_result"
    }
   ],
   "source": [
    "input()"
   ]
  },
  {
   "cell_type": "code",
   "execution_count": 16,
   "metadata": {},
   "outputs": [
    {
     "data": {
      "text/plain": [
       "str"
      ]
     },
     "execution_count": 16,
     "metadata": {},
     "output_type": "execute_result"
    }
   ],
   "source": [
    "type(password)"
   ]
  },
  {
   "cell_type": "code",
   "execution_count": 23,
   "metadata": {},
   "outputs": [
    {
     "data": {
      "text/plain": [
       "b'mafal201121@gmail.com authenticated (Success)'"
      ]
     },
     "execution_count": 23,
     "metadata": {},
     "output_type": "execute_result"
    }
   ],
   "source": [
    "EMAIL = 'mafal201121@gmail.com'  # 본인의 이메일 주소를 입력하세요.\n",
    "\n",
    "# 암호를 입력합니다. (입력 시 암호가 표시되지 않습니다)\n",
    "password = 'goyqgwyjnmprnigo'\n",
    "\n",
    "# IMAP 서버에 연결하고 로그인합니다\n",
    "imap_obj = imapclient.IMAPClient('imap.gmail.com', ssl=True)\n",
    "imap_obj.login(EMAIL, password)\n"
   ]
  },
  {
   "cell_type": "code",
   "execution_count": 24,
   "metadata": {},
   "outputs": [
    {
     "data": {
      "text/plain": [
       "{b'PERMANENTFLAGS': (),\n",
       " b'FLAGS': (b'\\\\Answered',\n",
       "  b'\\\\Flagged',\n",
       "  b'\\\\Draft',\n",
       "  b'\\\\Deleted',\n",
       "  b'\\\\Seen',\n",
       "  b'$NotPhishing',\n",
       "  b'$Phishing'),\n",
       " b'UIDVALIDITY': 1,\n",
       " b'EXISTS': 940,\n",
       " b'RECENT': 0,\n",
       " b'UIDNEXT': 1063,\n",
       " b'HIGHESTMODSEQ': 315570,\n",
       " b'READ-ONLY': [b'']}"
      ]
     },
     "execution_count": 24,
     "metadata": {},
     "output_type": "execute_result"
    }
   ],
   "source": [
    "# 'INBOX' 폴더를 선택합니다\n",
    "imap_obj.select_folder('INBOX', readonly=True)\n"
   ]
  },
  {
   "cell_type": "code",
   "execution_count": 26,
   "metadata": {},
   "outputs": [],
   "source": [
    "# 최근 10개의 메일을 검색합니다\n",
    "email_ids = imap_obj.search(['ALL'])[-10:]"
   ]
  },
  {
   "cell_type": "code",
   "execution_count": 29,
   "metadata": {},
   "outputs": [
    {
     "ename": "error",
     "evalue": "command UID illegal in state LOGOUT, only allowed in states SELECTED",
     "output_type": "error",
     "traceback": [
      "\u001b[0;31m---------------------------------------------------------------------------\u001b[0m",
      "\u001b[0;31merror\u001b[0m                                     Traceback (most recent call last)",
      "\u001b[1;32m/home/mafal/dev_study/otpass/test.ipynb Cell 13\u001b[0m line \u001b[0;36m3\n\u001b[1;32m      <a href='vscode-notebook-cell:/home/mafal/dev_study/otpass/test.ipynb#X15sZmlsZQ%3D%3D?line=0'>1</a>\u001b[0m \u001b[39m# 메일 본문을 가져옵니다\u001b[39;00m\n\u001b[1;32m      <a href='vscode-notebook-cell:/home/mafal/dev_study/otpass/test.ipynb#X15sZmlsZQ%3D%3D?line=1'>2</a>\u001b[0m \u001b[39mfor\u001b[39;00m email_id \u001b[39min\u001b[39;00m email_ids:\n\u001b[0;32m----> <a href='vscode-notebook-cell:/home/mafal/dev_study/otpass/test.ipynb#X15sZmlsZQ%3D%3D?line=2'>3</a>\u001b[0m     raw_message \u001b[39m=\u001b[39m imap_obj\u001b[39m.\u001b[39;49mfetch([email_id], [\u001b[39m'\u001b[39;49m\u001b[39mBODY[]\u001b[39;49m\u001b[39m'\u001b[39;49m, \u001b[39m'\u001b[39;49m\u001b[39mFLAGS\u001b[39;49m\u001b[39m'\u001b[39;49m])\n\u001b[1;32m      <a href='vscode-notebook-cell:/home/mafal/dev_study/otpass/test.ipynb#X15sZmlsZQ%3D%3D?line=3'>4</a>\u001b[0m     \u001b[39mprint\u001b[39m(raw_message[email_id][\u001b[39mb\u001b[39m\u001b[39m'\u001b[39m\u001b[39mBODY[]\u001b[39m\u001b[39m'\u001b[39m]\u001b[39m.\u001b[39mdecode(\u001b[39m'\u001b[39m\u001b[39mutf-8\u001b[39m\u001b[39m'\u001b[39m))\n",
      "File \u001b[0;32m~/dev_study/otpass/venv/lib/python3.11/site-packages/imapclient/imapclient.py:1383\u001b[0m, in \u001b[0;36mIMAPClient.fetch\u001b[0;34m(self, messages, data, modifiers)\u001b[0m\n\u001b[1;32m   1381\u001b[0m \u001b[39mif\u001b[39;00m \u001b[39mself\u001b[39m\u001b[39m.\u001b[39muse_uid:\n\u001b[1;32m   1382\u001b[0m     args\u001b[39m.\u001b[39minsert(\u001b[39m0\u001b[39m, \u001b[39m\"\u001b[39m\u001b[39mUID\u001b[39m\u001b[39m\"\u001b[39m)\n\u001b[0;32m-> 1383\u001b[0m tag \u001b[39m=\u001b[39m \u001b[39mself\u001b[39;49m\u001b[39m.\u001b[39;49m_imap\u001b[39m.\u001b[39;49m_command(\u001b[39m*\u001b[39;49margs)\n\u001b[1;32m   1384\u001b[0m typ, data \u001b[39m=\u001b[39m \u001b[39mself\u001b[39m\u001b[39m.\u001b[39m_imap\u001b[39m.\u001b[39m_command_complete(\u001b[39m\"\u001b[39m\u001b[39mFETCH\u001b[39m\u001b[39m\"\u001b[39m, tag)\n\u001b[1;32m   1385\u001b[0m \u001b[39mself\u001b[39m\u001b[39m.\u001b[39m_checkok(\u001b[39m\"\u001b[39m\u001b[39mfetch\u001b[39m\u001b[39m\"\u001b[39m, typ, data)\n",
      "File \u001b[0;32m/usr/local/lib/python3.11/imaplib.py:968\u001b[0m, in \u001b[0;36mIMAP4._command\u001b[0;34m(self, name, *args)\u001b[0m\n\u001b[1;32m    966\u001b[0m \u001b[39mif\u001b[39;00m \u001b[39mself\u001b[39m\u001b[39m.\u001b[39mstate \u001b[39mnot\u001b[39;00m \u001b[39min\u001b[39;00m Commands[name]:\n\u001b[1;32m    967\u001b[0m     \u001b[39mself\u001b[39m\u001b[39m.\u001b[39mliteral \u001b[39m=\u001b[39m \u001b[39mNone\u001b[39;00m\n\u001b[0;32m--> 968\u001b[0m     \u001b[39mraise\u001b[39;00m \u001b[39mself\u001b[39m\u001b[39m.\u001b[39merror(\u001b[39m\"\u001b[39m\u001b[39mcommand \u001b[39m\u001b[39m%s\u001b[39;00m\u001b[39m illegal in state \u001b[39m\u001b[39m%s\u001b[39;00m\u001b[39m, \u001b[39m\u001b[39m\"\u001b[39m\n\u001b[1;32m    969\u001b[0m                      \u001b[39m\"\u001b[39m\u001b[39monly allowed in states \u001b[39m\u001b[39m%s\u001b[39;00m\u001b[39m\"\u001b[39m \u001b[39m%\u001b[39m\n\u001b[1;32m    970\u001b[0m                      (name, \u001b[39mself\u001b[39m\u001b[39m.\u001b[39mstate,\n\u001b[1;32m    971\u001b[0m                       \u001b[39m'\u001b[39m\u001b[39m, \u001b[39m\u001b[39m'\u001b[39m\u001b[39m.\u001b[39mjoin(Commands[name])))\n\u001b[1;32m    973\u001b[0m \u001b[39mfor\u001b[39;00m typ \u001b[39min\u001b[39;00m (\u001b[39m'\u001b[39m\u001b[39mOK\u001b[39m\u001b[39m'\u001b[39m, \u001b[39m'\u001b[39m\u001b[39mNO\u001b[39m\u001b[39m'\u001b[39m, \u001b[39m'\u001b[39m\u001b[39mBAD\u001b[39m\u001b[39m'\u001b[39m):\n\u001b[1;32m    974\u001b[0m     \u001b[39mif\u001b[39;00m typ \u001b[39min\u001b[39;00m \u001b[39mself\u001b[39m\u001b[39m.\u001b[39muntagged_responses:\n",
      "\u001b[0;31merror\u001b[0m: command UID illegal in state LOGOUT, only allowed in states SELECTED"
     ]
    }
   ],
   "source": [
    "# 메일 본문을 가져옵니다\n",
    "for email_id in email_ids:\n",
    "    raw_message = imap_obj.fetch([email_id], ['BODY[]', 'FLAGS'])\n",
    "    print(raw_message[email_id][b'BODY[]'].decode('utf-8'))\n",
    "\n"
   ]
  },
  {
   "cell_type": "code",
   "execution_count": 28,
   "metadata": {},
   "outputs": [
    {
     "data": {
      "text/plain": [
       "b'LOGOUT Requested'"
      ]
     },
     "execution_count": 28,
     "metadata": {},
     "output_type": "execute_result"
    }
   ],
   "source": [
    "imap_obj.logout()"
   ]
  },
  {
   "cell_type": "code",
   "execution_count": null,
   "metadata": {},
   "outputs": [],
   "source": []
  }
 ],
 "metadata": {
  "kernelspec": {
   "display_name": "venv",
   "language": "python",
   "name": "python3"
  },
  "language_info": {
   "codemirror_mode": {
    "name": "ipython",
    "version": 3
   },
   "file_extension": ".py",
   "mimetype": "text/x-python",
   "name": "python",
   "nbconvert_exporter": "python",
   "pygments_lexer": "ipython3",
   "version": "3.11.6"
  },
  "orig_nbformat": 4
 },
 "nbformat": 4,
 "nbformat_minor": 2
}
