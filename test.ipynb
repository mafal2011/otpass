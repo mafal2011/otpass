{
 "cells": [
  {
   "cell_type": "markdown",
   "metadata": {},
   "source": [
    "[imapclient 사용법] https://bokyeong-kim.github.io/python/basic/2020/07/27/python-basic(5).html"
   ]
  },
  {
   "cell_type": "code",
   "execution_count": 36,
   "metadata": {},
   "outputs": [],
   "source": [
    "import imapclient"
   ]
  },
  {
   "cell_type": "code",
   "execution_count": 43,
   "metadata": {},
   "outputs": [
    {
     "data": {
      "text/plain": [
       "b'mafal201121@gmail.com authenticated (Success)'"
      ]
     },
     "execution_count": 43,
     "metadata": {},
     "output_type": "execute_result"
    }
   ],
   "source": [
    "EMAIL = 'mafal201121@gmail.com'  # 본인의 이메일 주소를 입력하세요.\n",
    "\n",
    "# 암호를 입력합니다. (입력 시 암호가 표시되지 않습니다)\n",
    "password = 'goyqgwyjnmprnigo'\n",
    "\n",
    "# IMAP 서버에 연결하고 로그인합니다\n",
    "imap_obj = imapclient.IMAPClient('imap.gmail.com', ssl=True)\n",
    "imap_obj.login(EMAIL, password)\n"
   ]
  },
  {
   "cell_type": "code",
   "execution_count": 44,
   "metadata": {},
   "outputs": [
    {
     "data": {
      "text/plain": [
       "{b'PERMANENTFLAGS': (),\n",
       " b'FLAGS': (b'\\\\Answered',\n",
       "  b'\\\\Flagged',\n",
       "  b'\\\\Draft',\n",
       "  b'\\\\Deleted',\n",
       "  b'\\\\Seen',\n",
       "  b'$NotPhishing',\n",
       "  b'$Phishing'),\n",
       " b'UIDVALIDITY': 1,\n",
       " b'EXISTS': 941,\n",
       " b'RECENT': 0,\n",
       " b'UIDNEXT': 1064,\n",
       " b'HIGHESTMODSEQ': 315630,\n",
       " b'READ-ONLY': [b'']}"
      ]
     },
     "execution_count": 44,
     "metadata": {},
     "output_type": "execute_result"
    }
   ],
   "source": [
    "# 'INBOX' 폴더를 선택합니다\n",
    "imap_obj.select_folder('INBOX', readonly=True)\n"
   ]
  },
  {
   "cell_type": "code",
   "execution_count": 48,
   "metadata": {},
   "outputs": [],
   "source": [
    "# 최근 10개의 메일을 검색합니다\n",
    "email_ids = imap_obj.search(['ALL'])[-10:]"
   ]
  },
  {
   "cell_type": "code",
   "execution_count": 49,
   "metadata": {},
   "outputs": [
    {
     "data": {
      "text/plain": [
       "[1054, 1055, 1056, 1057, 1058, 1059, 1060, 1061, 1062, 1063]"
      ]
     },
     "execution_count": 49,
     "metadata": {},
     "output_type": "execute_result"
    }
   ],
   "source": [
    "email_ids"
   ]
  },
  {
   "cell_type": "code",
   "execution_count": 45,
   "metadata": {},
   "outputs": [],
   "source": [
    "messages = imap_obj.search(['FROM', 'mafal2011@naver.com'])"
   ]
  },
  {
   "cell_type": "code",
   "execution_count": 47,
   "metadata": {},
   "outputs": [
    {
     "data": {
      "text/plain": [
       "1063"
      ]
     },
     "execution_count": 47,
     "metadata": {},
     "output_type": "execute_result"
    }
   ],
   "source": [
    "messages[0]"
   ]
  },
  {
   "cell_type": "code",
   "execution_count": 33,
   "metadata": {},
   "outputs": [
    {
     "name": "stdout",
     "output_type": "stream",
     "text": [
      "Delivered-To: mafal201121@gmail.com\n",
      "Received: by 2002:ac4:cc91:0:b0:66e:db78:6003 with SMTP id z17csp775795pin;\n",
      "        Fri, 6 Oct 2023 23:34:21 -0700 (PDT)\n",
      "X-Google-Smtp-Source: AGHT+IGd24CxdV7O+1xIwjQG9G2ZRHFRl8qdhyKGe57XeRsqkBTISpe4ayICHFPB5UX+LnfI/7Nd\n",
      "X-Received: by 2002:aa7:88ce:0:b0:690:c701:e0ed with SMTP id k14-20020aa788ce000000b00690c701e0edmr10099851pff.0.1696660460841;\n",
      "        Fri, 06 Oct 2023 23:34:20 -0700 (PDT)\n",
      "ARC-Seal: i=1; a=rsa-sha256; t=1696660460; cv=none;\n",
      "        d=google.com; s=arc-20160816;\n",
      "        b=zci5Pw+ra0bDe2t1IHMid1EloPDyIY+E7oIiFLPUn2IP5lSq6sO5YWIALLNWtIw+DX\n",
      "         HOTaFi76cEpFGYj2SiNh5U9abX1wAtFpup8EP27PdyWut83LoLax+HEYeYDYEZkFAh8m\n",
      "         I8AyaIEKOTRqyLHV9GB6ZBHbql3LCY94Y9HPNa61kdDFWfLwctaheo2OeGpZB031SOJl\n",
      "         qfidyFqEob/9cvtr8QiqWZiuA2hzr91MviQ4cnZnw6qQSL8B9+9EVxtEWPq8eG4wCDPm\n",
      "         oT0ws/tEsMwI7TCIXjBqws7WN6ktAHan99qLkLV5jCU/LYH3mVsJSPGtG6D+N4MEgJg4\n",
      "         yB3w==\n",
      "ARC-Message-Signature: i=1; a=rsa-sha256; c=relaxed/relaxed; d=google.com; s=arc-20160816;\n",
      "        h=subject:to:importance:from:date:message-id:mime-version\n",
      "         :dkim-signature;\n",
      "        bh=a0d07wCYncpQvSM1NQeRIG4OoAJMJv0NpVHdy1yDFxo=;\n",
      "        fh=G0SrzSd1Yrz5ffMJQTaGrSk8RRT67tLI5hrXVRweQHA=;\n",
      "        b=NIcb2P04HUgq7AqIpDyyKRAOvjjCJmvnbEL4Xjm6XwVh5e+D7wSTYQaWpVthk7Hc0y\n",
      "         VSB49J0hBDR6OpGW3sc41dSSxk84SlviEZZCQOiRNLgYRYcHA2FZxVWwy6vG/M0ljm+1\n",
      "         QUacYAhfbx4rZtvg0QOjs/nFg3Esu6CBB8vEw1uUsXixHzWCoalXdmI/E1chc6/Hl+vA\n",
      "         +dHlhb9fI+gT6/f/SiyAa1w7p6W5DrSfiOenhUx32po/Ms0EHQzKPBpdIKuT5BiKQK1/\n",
      "         Nr4m0Wj9AM15slHGMJm8l/2CSJvsKMJKbNe5M+eSAAUA7KcnCzCcRk1SUe4oeoKjvnxp\n",
      "         GGNQ==\n",
      "ARC-Authentication-Results: i=1; mx.google.com;\n",
      "       dkim=pass header.i=@naver.com header.s=s20171208 header.b=JS+7qSOc;\n",
      "       spf=pass (google.com: domain of mafal2011@naver.com designates 114.111.35.244 as permitted sender) smtp.mailfrom=mafal2011@naver.com;\n",
      "       dmarc=pass (p=NONE sp=NONE dis=NONE) header.from=naver.com\n",
      "Return-Path: <mafal2011@naver.com>\n",
      "Received: from cvsmtppost36.nm.naver.com (cvsmtppost36.nm.naver.com. [114.111.35.244])\n",
      "        by mx.google.com with ESMTPS id t26-20020a056a00139a00b0068fef323e54si3142459pfg.296.2023.10.06.23.34.20\n",
      "        for <mafal201121@gmail.com>\n",
      "        (version=TLS1_2 cipher=ECDHE-ECDSA-AES128-GCM-SHA256 bits=128/128);\n",
      "        Fri, 06 Oct 2023 23:34:20 -0700 (PDT)\n",
      "Received-SPF: pass (google.com: domain of mafal2011@naver.com designates 114.111.35.244 as permitted sender) client-ip=114.111.35.244;\n",
      "Authentication-Results: mx.google.com;\n",
      "       dkim=pass header.i=@naver.com header.s=s20171208 header.b=JS+7qSOc;\n",
      "       spf=pass (google.com: domain of mafal2011@naver.com designates 114.111.35.244 as permitted sender) smtp.mailfrom=mafal2011@naver.com;\n",
      "       dmarc=pass (p=NONE sp=NONE dis=NONE) header.from=naver.com\n",
      "X-Originating-IP: 118.235.33.159\n",
      "X-Works-Smtp-Source: QXKZFoMlFoJCpNm/Fxg/WHF0\n",
      "Received: from cvsendbo033.nm ([10.112.18.61])\n",
      "  by cvsmtppost36.nm.naver.com with ESMTP id FSqQJqNOS7acYYTjVXGA-Q\n",
      "  for <mafal201121@gmail.com>;\n",
      "  Sat, 07 Oct 2023 06:34:18 -0000\n",
      "DKIM-Signature: v=1; a=rsa-sha256; c=relaxed/simple; d=naver.com; s=s20171208;\n",
      "\tt=1696660458; bh=T/r1DBd4y0PyoQhEhynIhowVN6+J7PbS2UcVTAK9jCw=;\n",
      "\th=Message-ID:Date:From:To:Subject:From:Subject:Feedback-ID:\n",
      "\t X-Works-Security;\n",
      "\tb=JS+7qSOc+6UFGcqmbs27/nOqA4mXurMVLMBsInzEFG8rRb+7Xys5TrV2P+Aao3G+i\n",
      "\t cgtXxGw8kRD4AYvHeSlLjX4nIXVJjkG8lutDggLRgiziWe86w4J9xEpzWQLLN0IiQq\n",
      "\t 7fq+2nQ8SbfpiadBzumm2myBWl49MCrHETfjRvasIHcVX8A4R2PHFCzjWmA+fAYLXH\n",
      "\t TQQqrd/nQJN+GS3DhfRJIbZMTJf56yvKfUyInc+2Goc3ng6TjuZXqVpA4wgkTwGeQL\n",
      "\t kPJhmrbFxz69FzHflT29cMtNakonPnFK8VlpIkQk8k3SK1GQOGuao+102qI1DJzdVW\n",
      "\t Z/UT8Eco1Ovyg==\n",
      "X-Session-ID: cfKmKxKZKAUlFqvwBqbm7r9Cp4JnKogwKLYdaxtrFogdKxvwKot\n",
      "MIME-Version: 1.0\n",
      "Message-ID: <c15280736a547f729733fdc347679e@cweb008.nm.nfra.io>\n",
      "Date: Sat, 07 Oct 2023 15:34:18 +0900\n",
      "From: =?utf-8?B?6rCV7KSA66qo?= <mafal2011@naver.com>\n",
      "Importance: normal\n",
      "To: <mafal201121@gmail.com>\n",
      "Subject: =?utf-8?B?W3dlYuuwnOyLoF0g6rCA7KecIG90cA==?=\n",
      "X-Originating-IP: 118.235.33.159\n",
      "X-Works-Send-Opt: 3eYwjAIYjHmmFxuwKqJYKAv/aBwFjAu=\n",
      "Content-Type: multipart/alternative;\n",
      "\tboundary=\"-----Boundary-WM=_7f38fa5f6700.1696660458937\"\n",
      "\n",
      "-------Boundary-WM=_7f38fa5f6700.1696660458937\n",
      "Content-Type: text/plain;\n",
      "\tcharset=\"utf-8\"\n",
      "Content-Transfer-Encoding: base64\n",
      "\n",
      "6rCA7KecIG90cCDrsojtmLjripQgWzEyMzEyM10K\n",
      "\n",
      "-------Boundary-WM=_7f38fa5f6700.1696660458937\n",
      "Content-Type: text/html;\n",
      "\tcharset=\"utf-8\"\n",
      "Content-Transfer-Encoding: base64\n",
      "\n",
      "PGh0bWw+PGhlYWQ+PHN0eWxlPnB7bWFyZ2luLXRvcDowcHg7bWFyZ2luLWJvdHRvbTowcHg7fTwv\n",
      "c3R5bGU+PC9oZWFkPjxib2R5PjxkaXYgc3R5bGU9ImZvbnQtc2l6ZToxNHB4OyBmb250LWZhbWls\n",
      "eTpHdWxpbSzqtbTrprwsc2Fucy1zZXJpZjsiPuqwgOynnCBvdHAg67KI7Zi464qUIFsxMjMxMjNd\n",
      "PC9kaXY+PC9ib2R5PjwvaHRtbD48dGFibGUgc3R5bGU9J2Rpc3BsYXk6bm9uZSc+PHRyPjx0ZD48\n",
      "aW1nIHNyYz0iaHR0cHM6Ly9tYWlsLm5hdmVyLmNvbS9yZWFkUmVjZWlwdC9ub3RpZnkvP2ltZz1x\n",
      "ZmJaV3pKNE02ZHdNcW1zS3h1bUZ4VSUyRktBYnFGNHU5RkElMkI0RnFVbEZxS3FwNDNvS3F0WEZv\n",
      "YmxwRUlvJTJCcmtTS0FnJTJGNzRsUjc0bDRiNHU1MTZZUWFyOUNwNEpuS29nd0t4VXd0eiUyQlJN\n",
      "NjBuNzRGVFd0JTNEJTNELmdpZiIgYm9yZGVyPSIwIi8+PC90ZD48L3RyPjwvdGFibGU+\n",
      "\n",
      "-------Boundary-WM=_7f38fa5f6700.1696660458937--\n",
      "\n"
     ]
    }
   ],
   "source": [
    "# 메일 본문을 가져옵니다\n",
    "for email_id in email_ids:\n",
    "    raw_message = imap_obj.fetch([email_id], ['BODY[]', 'FLAGS'])\n",
    "    print(raw_message[email_id][b'BODY[]'].decode('utf-8'))\n",
    "\n"
   ]
  },
  {
   "cell_type": "code",
   "execution_count": 41,
   "metadata": {},
   "outputs": [
    {
     "data": {
      "text/plain": [
       "b'LOGOUT Requested'"
      ]
     },
     "execution_count": 41,
     "metadata": {},
     "output_type": "execute_result"
    }
   ],
   "source": [
    "imap_obj.logout()"
   ]
  },
  {
   "cell_type": "markdown",
   "metadata": {},
   "source": [
    "# 발신자 검색해서 가져오기"
   ]
  },
  {
   "cell_type": "code",
   "execution_count": 42,
   "metadata": {},
   "outputs": [
    {
     "ename": "LoginError",
     "evalue": "b'[AUTHENTICATIONFAILED] Invalid credentials (Failure)'",
     "output_type": "error",
     "traceback": [
      "\u001b[0;31m---------------------------------------------------------------------------\u001b[0m",
      "\u001b[0;31merror\u001b[0m                                     Traceback (most recent call last)",
      "File \u001b[0;32m~/dev_study/otpass/venv/lib/python3.11/site-packages/imapclient/imapclient.py:392\u001b[0m, in \u001b[0;36mIMAPClient.login\u001b[0;34m(self, username, password)\u001b[0m\n\u001b[1;32m    391\u001b[0m \u001b[39mtry\u001b[39;00m:\n\u001b[0;32m--> 392\u001b[0m     rv \u001b[39m=\u001b[39m \u001b[39mself\u001b[39;49m\u001b[39m.\u001b[39;49m_command_and_check(\n\u001b[1;32m    393\u001b[0m         \u001b[39m\"\u001b[39;49m\u001b[39mlogin\u001b[39;49m\u001b[39m\"\u001b[39;49m,\n\u001b[1;32m    394\u001b[0m         to_unicode(username),\n\u001b[1;32m    395\u001b[0m         to_unicode(password),\n\u001b[1;32m    396\u001b[0m         unpack\u001b[39m=\u001b[39;49m\u001b[39mTrue\u001b[39;49;00m,\n\u001b[1;32m    397\u001b[0m     )\n\u001b[1;32m    398\u001b[0m \u001b[39mexcept\u001b[39;00m exceptions\u001b[39m.\u001b[39mIMAPClientError \u001b[39mas\u001b[39;00m e:\n",
      "File \u001b[0;32m~/dev_study/otpass/venv/lib/python3.11/site-packages/imapclient/imapclient.py:1738\u001b[0m, in \u001b[0;36mIMAPClient._command_and_check\u001b[0;34m(self, command, *args, **kwargs)\u001b[0m\n\u001b[1;32m   1737\u001b[0m     meth \u001b[39m=\u001b[39m \u001b[39mgetattr\u001b[39m(\u001b[39mself\u001b[39m\u001b[39m.\u001b[39m_imap, to_unicode(command))\n\u001b[0;32m-> 1738\u001b[0m     typ, data \u001b[39m=\u001b[39m meth(\u001b[39m*\u001b[39;49margs)\n\u001b[1;32m   1739\u001b[0m \u001b[39mself\u001b[39m\u001b[39m.\u001b[39m_checkok(command, typ, data)\n",
      "File \u001b[0;32m/usr/local/lib/python3.11/imaplib.py:612\u001b[0m, in \u001b[0;36mIMAP4.login\u001b[0;34m(self, user, password)\u001b[0m\n\u001b[1;32m    611\u001b[0m \u001b[39mif\u001b[39;00m typ \u001b[39m!=\u001b[39m \u001b[39m'\u001b[39m\u001b[39mOK\u001b[39m\u001b[39m'\u001b[39m:\n\u001b[0;32m--> 612\u001b[0m     \u001b[39mraise\u001b[39;00m \u001b[39mself\u001b[39m\u001b[39m.\u001b[39merror(dat[\u001b[39m-\u001b[39m\u001b[39m1\u001b[39m])\n\u001b[1;32m    613\u001b[0m \u001b[39mself\u001b[39m\u001b[39m.\u001b[39mstate \u001b[39m=\u001b[39m \u001b[39m'\u001b[39m\u001b[39mAUTH\u001b[39m\u001b[39m'\u001b[39m\n",
      "\u001b[0;31merror\u001b[0m: b'[AUTHENTICATIONFAILED] Invalid credentials (Failure)'",
      "\nDuring handling of the above exception, another exception occurred:\n",
      "\u001b[0;31mLoginError\u001b[0m                                Traceback (most recent call last)",
      "\u001b[1;32m/home/mafal/dev_study/otpass/test.ipynb Cell 9\u001b[0m line \u001b[0;36m6\n\u001b[1;32m      <a href='vscode-notebook-cell:/home/mafal/dev_study/otpass/test.ipynb#X26sZmlsZQ%3D%3D?line=2'>3</a>\u001b[0m \u001b[39m# IMAP 서버에 연결\u001b[39;00m\n\u001b[1;32m      <a href='vscode-notebook-cell:/home/mafal/dev_study/otpass/test.ipynb#X26sZmlsZQ%3D%3D?line=3'>4</a>\u001b[0m \u001b[39mwith\u001b[39;00m IMAPClient(host\u001b[39m=\u001b[39m\u001b[39m'\u001b[39m\u001b[39mimap.gmail.com\u001b[39m\u001b[39m'\u001b[39m) \u001b[39mas\u001b[39;00m client:\n\u001b[1;32m      <a href='vscode-notebook-cell:/home/mafal/dev_study/otpass/test.ipynb#X26sZmlsZQ%3D%3D?line=4'>5</a>\u001b[0m     \u001b[39m# 로그인 (이메일과 비밀번호로)\u001b[39;00m\n\u001b[0;32m----> <a href='vscode-notebook-cell:/home/mafal/dev_study/otpass/test.ipynb#X26sZmlsZQ%3D%3D?line=5'>6</a>\u001b[0m     client\u001b[39m.\u001b[39;49mlogin(\u001b[39m'\u001b[39;49m\u001b[39myour_email@gmail.com\u001b[39;49m\u001b[39m'\u001b[39;49m, \u001b[39m'\u001b[39;49m\u001b[39myour_password\u001b[39;49m\u001b[39m'\u001b[39;49m)\n\u001b[1;32m      <a href='vscode-notebook-cell:/home/mafal/dev_study/otpass/test.ipynb#X26sZmlsZQ%3D%3D?line=7'>8</a>\u001b[0m     \u001b[39m# 'INBOX' 폴더를 선택\u001b[39;00m\n\u001b[1;32m      <a href='vscode-notebook-cell:/home/mafal/dev_study/otpass/test.ipynb#X26sZmlsZQ%3D%3D?line=8'>9</a>\u001b[0m     client\u001b[39m.\u001b[39mselect_folder(\u001b[39m'\u001b[39m\u001b[39mINBOX\u001b[39m\u001b[39m'\u001b[39m)\n",
      "File \u001b[0;32m~/dev_study/otpass/venv/lib/python3.11/site-packages/imapclient/imapclient.py:399\u001b[0m, in \u001b[0;36mIMAPClient.login\u001b[0;34m(self, username, password)\u001b[0m\n\u001b[1;32m    392\u001b[0m     rv \u001b[39m=\u001b[39m \u001b[39mself\u001b[39m\u001b[39m.\u001b[39m_command_and_check(\n\u001b[1;32m    393\u001b[0m         \u001b[39m\"\u001b[39m\u001b[39mlogin\u001b[39m\u001b[39m\"\u001b[39m,\n\u001b[1;32m    394\u001b[0m         to_unicode(username),\n\u001b[1;32m    395\u001b[0m         to_unicode(password),\n\u001b[1;32m    396\u001b[0m         unpack\u001b[39m=\u001b[39m\u001b[39mTrue\u001b[39;00m,\n\u001b[1;32m    397\u001b[0m     )\n\u001b[1;32m    398\u001b[0m \u001b[39mexcept\u001b[39;00m exceptions\u001b[39m.\u001b[39mIMAPClientError \u001b[39mas\u001b[39;00m e:\n\u001b[0;32m--> 399\u001b[0m     \u001b[39mraise\u001b[39;00m exceptions\u001b[39m.\u001b[39mLoginError(\u001b[39mstr\u001b[39m(e))\n\u001b[1;32m    401\u001b[0m logger\u001b[39m.\u001b[39mdebug(\u001b[39m\"\u001b[39m\u001b[39mLogged in as \u001b[39m\u001b[39m%s\u001b[39;00m\u001b[39m\"\u001b[39m, username)\n\u001b[1;32m    402\u001b[0m \u001b[39mreturn\u001b[39;00m rv\n",
      "\u001b[0;31mLoginError\u001b[0m: b'[AUTHENTICATIONFAILED] Invalid credentials (Failure)'"
     ]
    }
   ],
   "source": [
    "from imapclient import IMAPClient\n",
    "\n",
    "# IMAP 서버에 연결\n",
    "with IMAPClient(host='imap.gmail.com') as client:\n",
    "    # 로그인 (이메일과 비밀번호로)\n",
    "    client.login('your_email@gmail.com', 'your_password')\n",
    "    \n",
    "    # 'INBOX' 폴더를 선택\n",
    "    client.select_folder('INBOX')\n",
    "    \n",
    "    # 메시지 검색: 이 경우, \"example@example.com\" 이메일 주소에서 온 메일을 검색\n",
    "    messages = client.search(['FROM', 'mafal2011@naver.com'])\n",
    "    \n",
    "    # 메시지 내용 가져오기\n",
    "    for msg_id, msg_data in client.fetch(messages, ['ENVELOPE']).items():\n",
    "        envelope = msg_data[b'ENVELOPE']\n",
    "        print('From: %s' % envelope.from_[0].mailbox.decode(), end='@')\n",
    "        print(envelope.from_[0].host.decode())\n",
    "        print('Subject: %s' % envelope.subject.decode())\n",
    "        print('-' * 30)\n",
    "    \n",
    "    client.logout()\n"
   ]
  },
  {
   "cell_type": "code",
   "execution_count": null,
   "metadata": {},
   "outputs": [],
   "source": []
  }
 ],
 "metadata": {
  "kernelspec": {
   "display_name": "otpass",
   "language": "python",
   "name": "otpass"
  },
  "language_info": {
   "codemirror_mode": {
    "name": "ipython",
    "version": 3
   },
   "file_extension": ".py",
   "mimetype": "text/x-python",
   "name": "python",
   "nbconvert_exporter": "python",
   "pygments_lexer": "ipython3",
   "version": "3.11.6"
  }
 },
 "nbformat": 4,
 "nbformat_minor": 4
}
