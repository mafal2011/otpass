{
 "cells": [
  {
   "cell_type": "code",
   "execution_count": 1,
   "metadata": {},
   "outputs": [],
   "source": [
    "import requests"
   ]
  },
  {
   "cell_type": "code",
   "execution_count": 6,
   "metadata": {},
   "outputs": [
    {
     "name": "stdout",
     "output_type": "stream",
     "text": [
      "{\"result\": \"SUCCESS\", \"answer\": \"보낸사람 : 01028765994\\r\\n23년 단체교섭 가합의(안) 설명회를 아래 개최하오니 참석하여 주시기 바랍니다.\\r\\n장소 : 5층 통합사무실\\r\\n(중앙통로 )\\r\\n일시 : 10월11일 09시40\\r\\n설명 : 임승빈(중앙본부 교섭위원 복지운영국장)\\r\\n\\r\\n지부장 김성삼\\r\\n\"}\n"
     ]
    }
   ],
   "source": [
    "# URL 설정\n",
    "url = \"http://127.0.0.1:8000/otpass/otpass_mail/\"\n",
    "\n",
    "# 데이터 설정\n",
    "data = {\n",
    "    'email': 'mafal201116@gmail.com',\n",
    "    'pwd': 'password',\n",
    "    'mail_idx': 1\n",
    "}\n",
    "\n",
    "# POST 요청 보내기\n",
    "response = requests.post(url, data=data)\n",
    "\n",
    "# 응답 내용 출력 (선택 사항)\n",
    "print(response.text)"
   ]
  },
  {
   "cell_type": "code",
   "execution_count": null,
   "metadata": {},
   "outputs": [],
   "source": [
    "# 1. 비밀번호 해시화(sha256)\n",
    "# 2. rsa public 키를 가져와서 입력되는 데이터들 전부 암호화(비밀번호까지 전부 포함)\n",
    "# 3. 요청 보내기"
   ]
  },
  {
   "cell_type": "code",
   "execution_count": 3,
   "metadata": {},
   "outputs": [
    {
     "name": "stdout",
     "output_type": "stream",
     "text": [
      "374d794a95cdcfd8b35993185fef9ba368f160d8daf432d08ba9f1ed1e5abe6cc69291e0fa2fe0006a52570ef18c19def4e617c33ce52ef0a6e5fbe318cb0387\n"
     ]
    }
   ],
   "source": [
    "import hashlib\n",
    "\n",
    "data = \"\"\n",
    "hashed = hashlib.sha512(data.encode()).hexdigest()\n",
    "print(hashed)"
   ]
  },
  {
   "cell_type": "code",
   "execution_count": null,
   "metadata": {},
   "outputs": [],
   "source": [
    "# 비밀번호 수정 및 변경은 개발자에게 직접 문의\n",
    "# 만약에 비밀번호 매칭이 안되어서 받아올 수 없으면, 수동으로 otp 인증을 진행할 수 밖에 없음\n"
   ]
  }
 ],
 "metadata": {
  "kernelspec": {
   "display_name": "venv",
   "language": "python",
   "name": "python3"
  },
  "language_info": {
   "codemirror_mode": {
    "name": "ipython",
    "version": 3
   },
   "file_extension": ".py",
   "mimetype": "text/x-python",
   "name": "python",
   "nbconvert_exporter": "python",
   "pygments_lexer": "ipython3",
   "version": "3.11.6"
  }
 },
 "nbformat": 4,
 "nbformat_minor": 2
}
