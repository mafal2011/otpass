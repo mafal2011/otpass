{
 "cells": [
  {
   "cell_type": "code",
   "execution_count": 1,
   "metadata": {},
   "outputs": [],
   "source": [
    "import requests"
   ]
  },
  {
   "cell_type": "code",
   "execution_count": 2,
   "metadata": {},
   "outputs": [
    {
     "name": "stdout",
     "output_type": "stream",
     "text": [
      "{\"result\": \"SUCCESS\", \"answer\": \"테스트발신\\n\"}\n"
     ]
    }
   ],
   "source": [
    "# URL 설정\n",
    "url = \"http://127.0.0.1:8000/otpass/otpass_mail/\"\n",
    "\n",
    "# 데이터 설정\n",
    "data = {\n",
    "    'email': 'mafal2011@naver.com',\n",
    "    'pwd': 'password',\n",
    "    'mail_idx': 1\n",
    "}\n",
    "\n",
    "# POST 요청 보내기\n",
    "response = requests.post(url, data=data)\n",
    "\n",
    "# 응답 내용 출력 (선택 사항)\n",
    "print(response.text)"
   ]
  },
  {
   "cell_type": "code",
   "execution_count": null,
   "metadata": {},
   "outputs": [],
   "source": []
  }
 ],
 "metadata": {
  "kernelspec": {
   "display_name": "venv",
   "language": "python",
   "name": "python3"
  },
  "language_info": {
   "codemirror_mode": {
    "name": "ipython",
    "version": 3
   },
   "file_extension": ".py",
   "mimetype": "text/x-python",
   "name": "python",
   "nbconvert_exporter": "python",
   "pygments_lexer": "ipython3",
   "version": "3.11.6"
  }
 },
 "nbformat": 4,
 "nbformat_minor": 2
}
