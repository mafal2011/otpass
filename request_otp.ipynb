{
 "cells": [
  {
   "cell_type": "code",
   "execution_count": 2,
   "metadata": {},
   "outputs": [],
   "source": [
    "import requests"
   ]
  },
  {
   "cell_type": "code",
   "execution_count": 3,
   "metadata": {},
   "outputs": [
    {
     "name": "stdout",
     "output_type": "stream",
     "text": [
      "{\"result\": \"SUCCESS\", \"answer\": \"보낸사람 : 01028765994\\r\\n23년 단체교섭 가합의(안) 설명회를 아래 개최하오니 참석하여 주시기 바랍니다.\\r\\n장소 : 5층 통합사무실\\r\\n(중앙통로 )\\r\\n일시 : 10월11일 09시40\\r\\n설명 : 임승빈(중앙본부 교섭위원 복지운영국장)\\r\\n\\r\\n지부장 김성삼\\r\\n\"}\n"
     ]
    }
   ],
   "source": [
    "# URL 설정\n",
    "url = \"http://127.0.0.1:8000/otpass/otpass_mail/\"\n",
    "\n",
    "# 데이터 설정\n",
    "data = {\n",
    "    'email': 'mafal201116@gmail.com',\n",
    "    'pwd': 'password',\n",
    "    'mail_idx': 1\n",
    "}\n",
    "\n",
    "# POST 요청 보내기\n",
    "response = requests.post(url, data=data)\n",
    "\n",
    "# 응답 내용 출력 (선택 사항)\n",
    "print(response.text)"
   ]
  },
  {
   "cell_type": "code",
   "execution_count": null,
   "metadata": {},
   "outputs": [],
   "source": [
    "# 1. 비밀번호 해시화(sha256)\n",
    "# 2. rsa public 키를 가져와서 입력되는 데이터들 전부 암호화(비밀번호까지 전부 포함)\n",
    "# 3. 요청 보내기"
   ]
  },
  {
   "cell_type": "code",
   "execution_count": 7,
   "metadata": {},
   "outputs": [
    {
     "name": "stdout",
     "output_type": "stream",
     "text": [
      "3c9909afec25354d551dae21590bb26e38d53f2173b8d3dc3eee4c047e7ab1c1eb8b85103e3be7ba613b31bb5c9c36214dc9f14a42fd7a2fdb84856bca5c44c2\n"
     ]
    }
   ],
   "source": [
    "import hashlib\n",
    "\n",
    "data = \"123\"\n",
    "hashed = hashlib.sha512(data.encode()).hexdigest()\n",
    "print(hashed)"
   ]
  },
  {
   "cell_type": "code",
   "execution_count": null,
   "metadata": {},
   "outputs": [],
   "source": [
    "# 비밀번호 수정 및 변경은 개발자에게 직접 문의\n",
    "# 만약에 비밀번호 매칭이 안되어서 받아올 수 없으면, 수동으로 otp 인증을 진행할 수 밖에 없음"
   ]
  },
  {
   "cell_type": "code",
   "execution_count": 8,
   "metadata": {},
   "outputs": [
    {
     "data": {
      "text/plain": [
       "b'123'"
      ]
     },
     "execution_count": 8,
     "metadata": {},
     "output_type": "execute_result"
    }
   ],
   "source": [
    "data.encode()"
   ]
  },
  {
   "cell_type": "code",
   "execution_count": 9,
   "metadata": {},
   "outputs": [
    {
     "data": {
      "text/plain": [
       "'3c9909afec25354d551dae21590bb26e38d53f2173b8d3dc3eee4c047e7ab1c1eb8b85103e3be7ba613b31bb5c9c36214dc9f14a42fd7a2fdb84856bca5c44c2'"
      ]
     },
     "execution_count": 9,
     "metadata": {},
     "output_type": "execute_result"
    }
   ],
   "source": [
    "hashed"
   ]
  },
  {
   "cell_type": "code",
   "execution_count": 10,
   "metadata": {},
   "outputs": [
    {
     "name": "stdout",
     "output_type": "stream",
     "text": [
      "Unicode (UTF-16 or UTF-32 based on platform)\n",
      "Possibly UTF-8\n"
     ]
    }
   ],
   "source": [
    "def check_variable_encoding(var):\n",
    "    var_type = type(var)\n",
    "    if var_type is str:\n",
    "        # Python 3에서 문자열은 Unicode로 처리됩니다.\n",
    "        return \"Unicode (UTF-16 or UTF-32 based on platform)\"\n",
    "    elif var_type is bytes:\n",
    "        # 바이트 문자열의 경우, 인코딩을 정확하게 알 수 없지만 일반적으로 사용된 인코딩을 추측할 수는 있습니다.\n",
    "        try:\n",
    "            var.decode('utf-8')\n",
    "            return \"Possibly UTF-8\"\n",
    "        except UnicodeDecodeError:\n",
    "            return \"Not UTF-8\"\n",
    "    else:\n",
    "        return f\"{var_type}\"\n",
    "\n",
    "# 예제\n",
    "s = \"안녕하세요\"\n",
    "b = s.encode('utf-8')\n",
    "print(check_variable_encoding(s))\n",
    "print(check_variable_encoding(b))"
   ]
  },
  {
   "cell_type": "code",
   "execution_count": 11,
   "metadata": {},
   "outputs": [
    {
     "name": "stdout",
     "output_type": "stream",
     "text": [
      "Unicode (UTF-16 or UTF-32 based on platform)\n"
     ]
    }
   ],
   "source": [
    "print(check_variable_encoding(hashed))"
   ]
  },
  {
   "cell_type": "code",
   "execution_count": 12,
   "metadata": {},
   "outputs": [
    {
     "name": "stdout",
     "output_type": "stream",
     "text": [
      "Unicode (UTF-16 or UTF-32 based on platform)\n"
     ]
    }
   ],
   "source": [
    "print(check_variable_encoding(hashed))"
   ]
  },
  {
   "cell_type": "code",
   "execution_count": null,
   "metadata": {},
   "outputs": [],
   "source": []
  }
 ],
 "metadata": {
  "kernelspec": {
   "display_name": "Python 3 (ipykernel)",
   "language": "python",
   "name": "python3"
  },
  "language_info": {
   "codemirror_mode": {
    "name": "ipython",
    "version": 3
   },
   "file_extension": ".py",
   "mimetype": "text/x-python",
   "name": "python",
   "nbconvert_exporter": "python",
   "pygments_lexer": "ipython3",
   "version": "3.11.6"
  }
 },
 "nbformat": 4,
 "nbformat_minor": 4
}
