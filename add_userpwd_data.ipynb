{
 "cells": [
  {
   "cell_type": "code",
   "execution_count": 1,
   "id": "f7c9d6be-325e-4f62-98e2-6b1e6cd1a3ef",
   "metadata": {},
   "outputs": [],
   "source": [
    "import os\n",
    "import django\n",
    "import hashlib\n",
    "django.setup()\n",
    "from otpass.models import *\n",
    "# 비동기 컨텍스트에서는 제한되는게 있음\n",
    "os.environ.setdefault('DJANGO_SETTINGS_MODULE', 'rest.settings')\n",
    "os.environ[\"DJANGO_ALLOW_ASYNC_UNSAFE\"] = \"true\""
   ]
  },
  {
   "cell_type": "markdown",
   "id": "bf78cf97-7a2d-4010-8c2b-888144e27f16",
   "metadata": {},
   "source": [
    "# 1. 키 인스턴스를 먼저 정의"
   ]
  },
  {
   "cell_type": "code",
   "execution_count": 2,
   "id": "a58f62aa-424e-48d0-a30f-935d2827185b",
   "metadata": {},
   "outputs": [],
   "source": [
    "keystore_inst = KeyStore.objects.get(name='default_key')"
   ]
  },
  {
   "cell_type": "markdown",
   "id": "3152edb6-8ad3-46b2-8dd0-9c463f1cade8",
   "metadata": {},
   "source": [
    "# 2. 비밀번호 정의, salt생성 및 sha512 해시화"
   ]
  },
  {
   "cell_type": "code",
   "execution_count": 5,
   "id": "ad54d7eb-6047-401f-a0c0-e648c50051f8",
   "metadata": {},
   "outputs": [
    {
     "data": {
      "text/plain": [
       "'d1d26e52a213caaf5bd97653e0c59624c5bad656fa23d4660ce7b40372331d2e95ee5188c471ec36a8bbe1ec91cde0ea4c03796e046747485eac8f3a3e28047a'"
      ]
     },
     "execution_count": 5,
     "metadata": {},
     "output_type": "execute_result"
    }
   ],
   "source": [
    "pwd = \"Fmal1029!\"\n",
    "salt = os.urandom(16)\n",
    "combined = pwd.encode() + salt\n",
    "hashed_pwd = hashlib.sha512(combined).hexdigest()\n",
    "hashed_pwd"
   ]
  },
  {
   "cell_type": "markdown",
   "id": "c71c31bd-ba2b-44ba-8f8f-422e9da27a03",
   "metadata": {},
   "source": [
    "# 3. 새로운 데이터 생성"
   ]
  },
  {
   "cell_type": "code",
   "execution_count": 6,
   "id": "41e9fb41-71ef-4170-bd99-f972130f7e3b",
   "metadata": {},
   "outputs": [],
   "source": [
    "user_pwd_instance = UserPwd(\n",
    "    email = \"mafal201116@gmail.com\",\n",
    "    pwd = hashed_pwd,\n",
    "    salt = salt,\n",
    "    activate = True,\n",
    "    key_pair = keystore_inst,\n",
    ")\n",
    "user_pwd_instance.save()"
   ]
  },
  {
   "cell_type": "code",
   "execution_count": null,
   "id": "3fd24cb2-97e7-478e-bfaf-079391c8cb3e",
   "metadata": {},
   "outputs": [],
   "source": []
  }
 ],
 "metadata": {
  "kernelspec": {
   "display_name": "Django Shell-Plus",
   "language": "python",
   "name": "django_extensions"
  },
  "language_info": {
   "codemirror_mode": {
    "name": "ipython",
    "version": 3
   },
   "file_extension": ".py",
   "mimetype": "text/x-python",
   "name": "python",
   "nbconvert_exporter": "python",
   "pygments_lexer": "ipython3",
   "version": "3.11.6"
  }
 },
 "nbformat": 4,
 "nbformat_minor": 5
}
