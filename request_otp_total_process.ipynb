{
 "cells": [
  {
   "cell_type": "code",
   "execution_count": 42,
   "id": "2f82de8f-ba87-4f82-8256-3b3ed323fecc",
   "metadata": {},
   "outputs": [],
   "source": [
    "from cryptography.hazmat.backends import default_backend\n",
    "from cryptography.hazmat.primitives import serialization\n",
    "from cryptography.hazmat.primitives.asymmetric import rsa, padding\n",
    "from cryptography.hazmat.primitives import hashes\n",
    "import base64\n",
    "import requests\n",
    "import hashlib"
   ]
  },
  {
   "cell_type": "markdown",
   "id": "8eaefa2a-1e5f-4ecc-b923-7aee5f6290f0",
   "metadata": {},
   "source": [
    "# 1. rsa pubkey 요청하기"
   ]
  },
  {
   "cell_type": "code",
   "execution_count": 43,
   "id": "1f5857a4-26df-45bb-bd40-df3131a4a6ab",
   "metadata": {},
   "outputs": [],
   "source": [
    "pubkey_resp = requests.get(\n",
    "    'http://127.0.0.1:8000/otpass/pubkey/'\n",
    ")"
   ]
  },
  {
   "cell_type": "code",
   "execution_count": 44,
   "id": "01fc2e33-ad50-461a-98da-127b14081054",
   "metadata": {},
   "outputs": [],
   "source": [
    "pubkey = pubkey_resp.text"
   ]
  },
  {
   "cell_type": "markdown",
   "id": "7fa09ee3-7e61-43c4-88f3-01f35eb92aee",
   "metadata": {},
   "source": [
    "# 2. 키 객체 생성하기"
   ]
  },
  {
   "cell_type": "code",
   "execution_count": 45,
   "id": "95fde4b0-1e0c-4fc2-9d5b-2c998066415b",
   "metadata": {},
   "outputs": [],
   "source": [
    "pubkey_inst = serialization.load_pem_public_key(\n",
    "    pubkey.encode('utf-8'),\n",
    "    backend=default_backend()\n",
    ")"
   ]
  },
  {
   "cell_type": "markdown",
   "id": "8ace92cd-f27c-495b-aa8e-7d40609c00f3",
   "metadata": {},
   "source": [
    "# 3. 요청데이터 준비하고 패스워드만 rsa암호화 --> base64인코딩 (해시화는 넘어가서 한다)"
   ]
  },
  {
   "cell_type": "code",
   "execution_count": 51,
   "id": "f8e3257f-6d53-4079-81fb-80a7f28e9f4c",
   "metadata": {},
   "outputs": [
    {
     "data": {
      "text/plain": [
       "{'email': 'mafal201116@gmail.com',\n",
       " 'pwd': b'j0VepZoR00xFuxxAAmI8tK1EqIYyuxtyLvtzHj9hMl9TKfGwR3sqXwikkwwgTsuZKRimXvt+f94/w087pUInC57q54Wrevob9+4NJhgp6AzvN/yxupkL5V1s+evfPWBg2f/oSXjtWl+i8A4rtTjYyiNcS1foTL6G1TwVTvdqYtsKsCFpGVXKE81VWAyhWPSc/73roK8loZhy+6kM5zRaHzBhyBSfdIYgREOmUxXNTAnGvLZoDMU+gRR5HB2CRn8lJFXnfSx3XPTDh8eFbzrC4LPuwVcEiBXETVwNeCq63QuWetrDn3EHHbOLFkzuEEohNVImuQ9TbTZxkCT4xuB2SA==',\n",
       " 'mail_idx': ''}"
      ]
     },
     "execution_count": 51,
     "metadata": {},
     "output_type": "execute_result"
    }
   ],
   "source": [
    "url = 'http://127.0.0.1:8000/otpass/otpass_mail/'\n",
    "request_data = {\n",
    "    'email': \"mafal201116@gmail.com\",\n",
    "    'pwd': 'Fmal1029!',\n",
    "    'mail_idx': '',\n",
    "}\n",
    "\n",
    "# 암호화된 원본\n",
    "# print(hashlib.sha512(request_data['pwd'].encode()).hexdigest())\n",
    "# [아래] pwd를 바이너리로 변환 후, sha512적용 후 utf-8로 인코딩\n",
    "# request_data['pwd'] = hashlib.sha512(request_data['pwd'].encode()).hexdigest().encode('utf-8') # sha516으로 전환\n",
    "request_data['pwd'] = request_data['pwd'].encode('utf-8')\n",
    "request_data['pwd'] = pubkey_inst.encrypt(\n",
    "    request_data['pwd'],\n",
    "    padding.OAEP(\n",
    "        mgf=padding.MGF1(algorithm=hashes.SHA256()),\n",
    "        algorithm=hashes.SHA256(),\n",
    "        label=None\n",
    "    )\n",
    ")\n",
    "request_data['pwd'] = base64.b64encode(request_data['pwd'])\n",
    "\n",
    "request_header = {\n",
    "    'User-Agent': 'dgnit-otpasstest1017'\n",
    "}\n",
    "request_data"
   ]
  },
  {
   "cell_type": "markdown",
   "id": "36e14779-bc65-4510-a8f1-f943f4bdd8ee",
   "metadata": {},
   "source": [
    "# 4. 요청하기(otp번호 요청 전/후 필요)\n",
    "- 실제로 otp가 변하는지 확인을 하기 위해서\n",
    "- otp발송이 완료되었다는 이벤트 확인 후 제한시간동안 주기적으로 확인"
   ]
  },
  {
   "cell_type": "code",
   "execution_count": 52,
   "id": "43a9d159-e96a-4483-bd28-9f8f3d69f3f5",
   "metadata": {},
   "outputs": [],
   "source": [
    "# POST 요청 보내기\n",
    "response = requests.post(url, \n",
    "                         data=request_data, \n",
    "                         headers=request_header)"
   ]
  },
  {
   "cell_type": "code",
   "execution_count": 53,
   "id": "515d70e2-490a-4caa-9077-0caa93139afb",
   "metadata": {},
   "outputs": [
    {
     "data": {
      "text/plain": [
       "'{\"result\": \"FAILED\", \"answer\": \"비밀번호가 일치하지 않습니다.\"}'"
      ]
     },
     "execution_count": 53,
     "metadata": {},
     "output_type": "execute_result"
    }
   ],
   "source": [
    "response.text"
   ]
  },
  {
   "cell_type": "markdown",
   "id": "fea8f0e6-7cf2-4231-a8ac-c853dee87c5a",
   "metadata": {},
   "source": [
    "# 5. OTP 있는지 확인하고 파씽하기\n",
    "- 서비스별로 다름"
   ]
  },
  {
   "cell_type": "code",
   "execution_count": null,
   "id": "311b1af0-1f11-48a4-b431-6d453213e1a6",
   "metadata": {},
   "outputs": [],
   "source": []
  }
 ],
 "metadata": {
  "kernelspec": {
   "display_name": "otpass",
   "language": "python",
   "name": "otpass"
  },
  "language_info": {
   "codemirror_mode": {
    "name": "ipython",
    "version": 3
   },
   "file_extension": ".py",
   "mimetype": "text/x-python",
   "name": "python",
   "nbconvert_exporter": "python",
   "pygments_lexer": "ipython3",
   "version": "3.11.6"
  }
 },
 "nbformat": 4,
 "nbformat_minor": 5
}
